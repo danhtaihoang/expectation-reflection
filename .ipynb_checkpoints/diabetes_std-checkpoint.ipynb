{
 "cells": [
  {
   "cell_type": "markdown",
   "metadata": {},
   "source": [
    "## Diabetes Diagnosis"
   ]
  },
  {
   "cell_type": "code",
   "execution_count": 1,
   "metadata": {},
   "outputs": [],
   "source": [
    "import numpy as np\n",
    "import pandas as pd\n",
    "\n",
    "from sklearn.model_selection import train_test_split\n",
    "from sklearn.model_selection import KFold\n",
    "from sklearn.utils import shuffle\n",
    "from sklearn.metrics import accuracy_score\n",
    "\n",
    "import expectation_reflection as ER\n",
    "from sklearn.linear_model import LogisticRegression\n",
    "from sklearn.naive_bayes import GaussianNB\n",
    "from sklearn.ensemble import RandomForestClassifier\n",
    "from sklearn.tree import DecisionTreeClassifier\n",
    "\n",
    "import matplotlib.pyplot as plt\n",
    "%matplotlib inline"
   ]
  },
  {
   "cell_type": "code",
   "execution_count": 2,
   "metadata": {},
   "outputs": [],
   "source": [
    "np.random.seed(1)"
   ]
  },
  {
   "cell_type": "code",
   "execution_count": 3,
   "metadata": {},
   "outputs": [
    {
     "data": {
      "text/html": [
       "<div>\n",
       "<style scoped>\n",
       "    .dataframe tbody tr th:only-of-type {\n",
       "        vertical-align: middle;\n",
       "    }\n",
       "\n",
       "    .dataframe tbody tr th {\n",
       "        vertical-align: top;\n",
       "    }\n",
       "\n",
       "    .dataframe thead th {\n",
       "        text-align: right;\n",
       "    }\n",
       "</style>\n",
       "<table border=\"1\" class=\"dataframe\">\n",
       "  <thead>\n",
       "    <tr style=\"text-align: right;\">\n",
       "      <th></th>\n",
       "      <th>0</th>\n",
       "      <th>1</th>\n",
       "      <th>2</th>\n",
       "      <th>3</th>\n",
       "      <th>4</th>\n",
       "      <th>5</th>\n",
       "      <th>6</th>\n",
       "      <th>7</th>\n",
       "      <th>8</th>\n",
       "    </tr>\n",
       "  </thead>\n",
       "  <tbody>\n",
       "    <tr>\n",
       "      <th>0</th>\n",
       "      <td>Pregnancies</td>\n",
       "      <td>Glucose</td>\n",
       "      <td>BloodPressure</td>\n",
       "      <td>SkinThickness</td>\n",
       "      <td>Insulin</td>\n",
       "      <td>BMI</td>\n",
       "      <td>DiabetesPedigreeFunction</td>\n",
       "      <td>Age</td>\n",
       "      <td>Outcome</td>\n",
       "    </tr>\n",
       "    <tr>\n",
       "      <th>1</th>\n",
       "      <td>6</td>\n",
       "      <td>148</td>\n",
       "      <td>72</td>\n",
       "      <td>35</td>\n",
       "      <td>0</td>\n",
       "      <td>33.6</td>\n",
       "      <td>0.627</td>\n",
       "      <td>50</td>\n",
       "      <td>1</td>\n",
       "    </tr>\n",
       "    <tr>\n",
       "      <th>2</th>\n",
       "      <td>1</td>\n",
       "      <td>85</td>\n",
       "      <td>66</td>\n",
       "      <td>29</td>\n",
       "      <td>0</td>\n",
       "      <td>26.6</td>\n",
       "      <td>0.351</td>\n",
       "      <td>31</td>\n",
       "      <td>0</td>\n",
       "    </tr>\n",
       "    <tr>\n",
       "      <th>3</th>\n",
       "      <td>8</td>\n",
       "      <td>183</td>\n",
       "      <td>64</td>\n",
       "      <td>0</td>\n",
       "      <td>0</td>\n",
       "      <td>23.3</td>\n",
       "      <td>0.672</td>\n",
       "      <td>32</td>\n",
       "      <td>1</td>\n",
       "    </tr>\n",
       "    <tr>\n",
       "      <th>4</th>\n",
       "      <td>1</td>\n",
       "      <td>89</td>\n",
       "      <td>66</td>\n",
       "      <td>23</td>\n",
       "      <td>94</td>\n",
       "      <td>28.1</td>\n",
       "      <td>0.167</td>\n",
       "      <td>21</td>\n",
       "      <td>0</td>\n",
       "    </tr>\n",
       "  </tbody>\n",
       "</table>\n",
       "</div>"
      ],
      "text/plain": [
       "             0        1              2              3        4     5  \\\n",
       "0  Pregnancies  Glucose  BloodPressure  SkinThickness  Insulin   BMI   \n",
       "1            6      148             72             35        0  33.6   \n",
       "2            1       85             66             29        0  26.6   \n",
       "3            8      183             64              0        0  23.3   \n",
       "4            1       89             66             23       94  28.1   \n",
       "\n",
       "                          6    7        8  \n",
       "0  DiabetesPedigreeFunction  Age  Outcome  \n",
       "1                     0.627   50        1  \n",
       "2                     0.351   31        0  \n",
       "3                     0.672   32        1  \n",
       "4                     0.167   21        0  "
      ]
     },
     "execution_count": 3,
     "metadata": {},
     "output_type": "execute_result"
    }
   ],
   "source": [
    "# load data\n",
    "s = pd.read_csv('../diabetes_data.csv',sep= ',', header= None)\n",
    "s.head()"
   ]
  },
  {
   "cell_type": "markdown",
   "metadata": {},
   "source": [
    "The data contains 8 features:<br/>\n",
    "1) Pregnancies: Number of times pregnant<br/>\n",
    "2) Glucose: Plasma glucose concentration at 2 hours in an oral glucose tolerance test (GTT)<br/>\n",
    "3) BloodPressure: Diastolic blood pressure (mmHg)<br/>\n",
    "4) SkinThickness: Triceps skin fold thickness (mm)<br/>\n",
    "5) Insulin: 2-Hour serum insulin (mu U/ml)<br/>\n",
    "6) BMI: Body Mass Index (weight(kg)/(height(m))^2)<br/>\n",
    "7) DiabetesPedigreeFunction: Diabetes Pedigree Function<br/>\n",
    "8) Age: Age (years)<br/>\n",
    "\n",
    "and 1 target: 1 (positive), 0 (negative)"
   ]
  },
  {
   "cell_type": "markdown",
   "metadata": {},
   "source": [
    "### Impute missing data"
   ]
  },
  {
   "cell_type": "code",
   "execution_count": 4,
   "metadata": {},
   "outputs": [],
   "source": [
    "# impute missing data\n",
    "Xy = np.loadtxt('../diabetes_data_imputed_knn3.txt').astype(float)\n",
    "\n",
    "# select features and target:\n",
    "X = Xy[:,:8]\n",
    "y = Xy[:,8]\n",
    "\n",
    "# convert 1,0 to 1,-1:\n",
    "y = 2*y - 1"
   ]
  },
  {
   "cell_type": "code",
   "execution_count": 5,
   "metadata": {},
   "outputs": [],
   "source": [
    "from sklearn.utils import shuffle\n",
    "X, y = shuffle(X, y)\n",
    "\n",
    "from sklearn.preprocessing import MinMaxScaler\n",
    "X = MinMaxScaler().fit_transform(X)"
   ]
  },
  {
   "cell_type": "markdown",
   "metadata": {},
   "source": [
    "### Prediction"
   ]
  },
  {
   "cell_type": "code",
   "execution_count": 6,
   "metadata": {},
   "outputs": [],
   "source": [
    "def inference(X_train,y_train,X_test,y_test,method='expectation_reflection'):\n",
    "    if method == 'expectation_reflection':\n",
    "        h0,w = ER.fit(X_train,y_train,niter_max=100,regu=0.01)\n",
    "        y_pred = ER.predict(X_test,h0,w)\n",
    "        y_pred_train = ER.predict(X_train,h0,w)\n",
    "\n",
    "    else:\n",
    "        if method == 'logistic_regression':\n",
    "            model = LogisticRegression(solver='liblinear')\n",
    "\n",
    "        if method == 'naive_bayes': \n",
    "            model = GaussianNB()\n",
    "\n",
    "        if method == 'random_forest':\n",
    "            model = RandomForestClassifier(criterion = \"gini\", random_state = 1,\n",
    "                           max_depth=3, min_samples_leaf=5,n_estimators=100)   \n",
    "            \n",
    "        if method == 'decision_tree':\n",
    "            model = DecisionTreeClassifier()  \n",
    "\n",
    "        model.fit(X_train, y_train)\n",
    "        y_pred = model.predict(X_test)\n",
    "        y_pred_train = model.predict(X_train)\n",
    "        \n",
    "    accuracy = accuracy_score(y_test,y_pred)                \n",
    "                  \n",
    "    return accuracy"
   ]
  },
  {
   "cell_type": "code",
   "execution_count": 7,
   "metadata": {},
   "outputs": [],
   "source": [
    "list_methods=['logistic_regression','naive_bayes','random_forest','decision_tree','expectation_reflection']\n",
    "def compare_inference(X,y,train_size):\n",
    "    npred = 100\n",
    "    accuracy = np.zeros((len(list_methods),npred))\n",
    "    precision = np.zeros((len(list_methods),npred))\n",
    "    recall = np.zeros((len(list_methods),npred))\n",
    "    accuracy_train = np.zeros((len(list_methods),npred))\n",
    "    for ipred in range(npred):\n",
    "        X, y = shuffle(X, y)\n",
    "        X_train0,X_test,y_train0,y_test = train_test_split(X,y,test_size=0.2,random_state = ipred)\n",
    "        idx_train = np.random.choice(len(y_train0),size=int(train_size*len(y)),replace=False)\n",
    "        X_train,y_train = X_train0[idx_train],y_train0[idx_train]\n",
    "\n",
    "        for i,method in enumerate(list_methods):\n",
    "            accuracy[i,ipred] = inference(X_train,y_train,X_test,y_test,method)\n",
    "            \n",
    "    return accuracy.mean(axis=1),accuracy.std(axis=1)"
   ]
  },
  {
   "cell_type": "code",
   "execution_count": 8,
   "metadata": {
    "scrolled": true
   },
   "outputs": [
    {
     "name": "stdout",
     "output_type": "stream",
     "text": [
      "0.8 [0.76714286 0.74831169 0.76012987 0.70993506 0.76993506]\n",
      "0.6 [0.76837662 0.75149351 0.76090909 0.69811688 0.77045455]\n",
      "0.4 [0.75662338 0.7462987  0.75058442 0.68948052 0.76019481]\n",
      "0.2 [0.74097403 0.74168831 0.74857143 0.68168831 0.75857143]\n"
     ]
    }
   ],
   "source": [
    "list_train_size = [0.8,0.6,0.4,0.2]\n",
    "acc = np.zeros((len(list_train_size),len(list_methods)))\n",
    "acc_std = np.zeros((len(list_train_size),len(list_methods)))\n",
    "for i,train_size in enumerate(list_train_size):\n",
    "    acc[i,:],acc_std[i,:] = compare_inference(X,y,train_size)\n",
    "    print(train_size,acc[i,:])"
   ]
  },
  {
   "cell_type": "code",
   "execution_count": 9,
   "metadata": {
    "scrolled": true
   },
   "outputs": [
    {
     "data": {
      "text/html": [
       "<div>\n",
       "<style scoped>\n",
       "    .dataframe tbody tr th:only-of-type {\n",
       "        vertical-align: middle;\n",
       "    }\n",
       "\n",
       "    .dataframe tbody tr th {\n",
       "        vertical-align: top;\n",
       "    }\n",
       "\n",
       "    .dataframe thead th {\n",
       "        text-align: right;\n",
       "    }\n",
       "</style>\n",
       "<table border=\"1\" class=\"dataframe\">\n",
       "  <thead>\n",
       "    <tr style=\"text-align: right;\">\n",
       "      <th></th>\n",
       "      <th>train_size</th>\n",
       "      <th>logistic_regression</th>\n",
       "      <th>naive_bayes</th>\n",
       "      <th>random_forest</th>\n",
       "      <th>decision_tree</th>\n",
       "      <th>expectation_reflection</th>\n",
       "    </tr>\n",
       "  </thead>\n",
       "  <tbody>\n",
       "    <tr>\n",
       "      <th>0</th>\n",
       "      <td>0.8</td>\n",
       "      <td>0.767143</td>\n",
       "      <td>0.748312</td>\n",
       "      <td>0.760130</td>\n",
       "      <td>0.709935</td>\n",
       "      <td>0.769935</td>\n",
       "    </tr>\n",
       "    <tr>\n",
       "      <th>1</th>\n",
       "      <td>0.6</td>\n",
       "      <td>0.768377</td>\n",
       "      <td>0.751494</td>\n",
       "      <td>0.760909</td>\n",
       "      <td>0.698117</td>\n",
       "      <td>0.770455</td>\n",
       "    </tr>\n",
       "    <tr>\n",
       "      <th>2</th>\n",
       "      <td>0.4</td>\n",
       "      <td>0.756623</td>\n",
       "      <td>0.746299</td>\n",
       "      <td>0.750584</td>\n",
       "      <td>0.689481</td>\n",
       "      <td>0.760195</td>\n",
       "    </tr>\n",
       "    <tr>\n",
       "      <th>3</th>\n",
       "      <td>0.2</td>\n",
       "      <td>0.740974</td>\n",
       "      <td>0.741688</td>\n",
       "      <td>0.748571</td>\n",
       "      <td>0.681688</td>\n",
       "      <td>0.758571</td>\n",
       "    </tr>\n",
       "  </tbody>\n",
       "</table>\n",
       "</div>"
      ],
      "text/plain": [
       "   train_size  logistic_regression  naive_bayes  random_forest  decision_tree  \\\n",
       "0         0.8             0.767143     0.748312       0.760130       0.709935   \n",
       "1         0.6             0.768377     0.751494       0.760909       0.698117   \n",
       "2         0.4             0.756623     0.746299       0.750584       0.689481   \n",
       "3         0.2             0.740974     0.741688       0.748571       0.681688   \n",
       "\n",
       "   expectation_reflection  \n",
       "0                0.769935  \n",
       "1                0.770455  \n",
       "2                0.760195  \n",
       "3                0.758571  "
      ]
     },
     "execution_count": 9,
     "metadata": {},
     "output_type": "execute_result"
    }
   ],
   "source": [
    "df = pd.DataFrame(acc,columns = list_methods)\n",
    "df.insert(0, \"train_size\",list_train_size, True)\n",
    "df"
   ]
  },
  {
   "cell_type": "code",
   "execution_count": 12,
   "metadata": {},
   "outputs": [
    {
     "data": {
      "text/plain": [
       "array([[0.03199685, 0.0325987 , 0.03549306, 0.03417652, 0.03113167],\n",
       "       [0.03089783, 0.03237461, 0.03201477, 0.03527469, 0.02988953],\n",
       "       [0.03163184, 0.03094147, 0.03411527, 0.03523743, 0.03140139],\n",
       "       [0.03844786, 0.03532348, 0.03534138, 0.04503498, 0.032975  ]])"
      ]
     },
     "execution_count": 12,
     "metadata": {},
     "output_type": "execute_result"
    }
   ],
   "source": [
    "acc_std"
   ]
  },
  {
   "cell_type": "code",
   "execution_count": 21,
   "metadata": {},
   "outputs": [
    {
     "data": {
      "text/plain": [
       "<matplotlib.legend.Legend at 0x7ff70611c630>"
      ]
     },
     "execution_count": 21,
     "metadata": {},
     "output_type": "execute_result"
    },
    {
     "data": {
      "image/png": "[encoded data removed]",
      "text/plain": [
       "<Figure size 288x216 with 1 Axes>"
      ]
     },
     "metadata": {
      "needs_background": "light"
     },
     "output_type": "display_data"
    }
   ],
   "source": [
    "plt.figure(figsize=(4,3))    \n",
    "#plt.plot(list_train_size,acc[:,0],'k--',marker='o',mfc='none',label='Logistic Regression')\n",
    "#plt.plot(list_train_size,acc[:,1],'b--',marker='s',mfc='none',label='Naive Bayes')\n",
    "#plt.plot(list_train_size,acc[:,2],'r--',marker='^',mfc='none',label='Random Forest')\n",
    "#plt.plot(list_train_size,acc[:,3],'b--',label='Decision Tree')\n",
    "#plt.plot(list_train_size,acc[:,4],'k-',marker='o',label='Expectation Reflection')\n",
    "\n",
    "plt.errorbar(list_train_size,acc[:,0],yerr=acc_std[:,0],fmt='ko--',label='Logistic Regression')\n",
    "plt.errorbar(list_train_size,acc[:,1],yerr=acc_std[:,1],fmt='bs--',label='Navie Bayes')\n",
    "plt.errorbar(list_train_size,acc[:,2],yerr=acc_std[:,2],fmt='r^--',label='Random Forest')\n",
    "plt.errorbar(list_train_size,acc[:,3],yerr=acc_std[:,3],fmt='g^--',label='Decision Tree')\n",
    "plt.errorbar(list_train_size,acc[:,4],yerr=acc_std[:,4],fmt='ko-',label='Expectation Reflection')\n",
    "plt.xlabel('train size')\n",
    "plt.ylabel('accuracy')\n",
    "plt.legend()"
   ]
  },
  {
   "cell_type": "code",
   "execution_count": null,
   "metadata": {},
   "outputs": [],
   "source": []
  }
 ],
 "metadata": {
  "kernelspec": {
   "display_name": "Python 3",
   "language": "python",
   "name": "python3"
  },
  "language_info": {
   "codemirror_mode": {
    "name": "ipython",
    "version": 3
   },
   "file_extension": ".py",
   "mimetype": "text/x-python",
   "name": "python",
   "nbconvert_exporter": "python",
   "pygments_lexer": "ipython3",
   "version": "3.7.3"
  }
 },
 "nbformat": 4,
 "nbformat_minor": 2
}
