{
 "cells": [
  {
   "cell_type": "markdown",
   "metadata": {},
   "source": [
    "## Expectation Reflection for Classification"
   ]
  },
  {
   "cell_type": "code",
   "execution_count": 1,
   "metadata": {},
   "outputs": [],
   "source": [
    "import numpy as np\n",
    "from sklearn.model_selection import train_test_split\n",
    "from sklearn.model_selection import KFold\n",
    "from sklearn.metrics import accuracy_score\n",
    "\n",
    "import expectation_reflection as ER\n",
    "from sklearn.linear_model import LogisticRegression\n",
    "\n",
    "import matplotlib.pyplot as plt\n",
    "%matplotlib inline"
   ]
  },
  {
   "cell_type": "code",
   "execution_count": 2,
   "metadata": {},
   "outputs": [],
   "source": [
    "np.random.seed(1)"
   ]
  },
  {
   "cell_type": "code",
   "execution_count": 3,
   "metadata": {},
   "outputs": [],
   "source": [
    "l = 200\n",
    "n = 100"
   ]
  },
  {
   "cell_type": "markdown",
   "metadata": {},
   "source": [
    "### Binary variables"
   ]
  },
  {
   "cell_type": "code",
   "execution_count": 4,
   "metadata": {},
   "outputs": [],
   "source": [
    "def synthesize_data_binary(l,n):\n",
    "    w = np.random.normal(0.,4./np.sqrt(n),size=n)\n",
    "    X = np.sign(np.random.rand(l,n)-0.5)\n",
    "    h = X.dot(w)\n",
    "    p = 1/(1+np.exp(-2*h)) # kinetic ising\n",
    "    #p = 1/(1+np.exp(-h))  # logistic regression\n",
    "    y = np.sign(p - np.random.rand(l))\n",
    "    return w,X,y"
   ]
  },
  {
   "cell_type": "code",
   "execution_count": 5,
   "metadata": {},
   "outputs": [],
   "source": [
    "w0,X,y = synthesize_data_binary(l,n)\n",
    "h0,w = ER.fit(X,y,niter_max=100,regu=0.005)"
   ]
  },
  {
   "cell_type": "code",
   "execution_count": 6,
   "metadata": {
    "scrolled": true
   },
   "outputs": [
    {
     "data": {
      "image/png": "[encoded data removed]",
      "text/plain": [
       "<Figure size 288x216 with 1 Axes>"
      ]
     },
     "metadata": {
      "needs_background": "light"
     },
     "output_type": "display_data"
    }
   ],
   "source": [
    "plt.figure(figsize=(4,3))\n",
    "\n",
    "plt.plot([-1,1],[-1,1],'r--')\n",
    "plt.scatter(w0,w)\n",
    "plt.xlabel('actual interactions')\n",
    "plt.ylabel('inferred interactios')\n",
    "\n",
    "plt.show()"
   ]
  },
  {
   "cell_type": "code",
   "execution_count": 7,
   "metadata": {},
   "outputs": [
    {
     "name": "stdout",
     "output_type": "stream",
     "text": [
      "(0.045163020067764605, 1.0)\n"
     ]
    }
   ],
   "source": [
    "y_pred = ER.predict(X,h0,w)\n",
    "accuracy = accuracy_score(y,y_pred)\n",
    "mse = ((w0-w)**2).mean()\n",
    "print(mse,accuracy)"
   ]
  },
  {
   "cell_type": "code",
   "execution_count": 8,
   "metadata": {},
   "outputs": [],
   "source": [
    "kf = 5\n",
    "def ER_inference(X,y,kf=5,regu=0.005):    \n",
    "    #x_train,x_test,y_train,y_test = train_test_split(X1,y,test_size=0.3,random_state = 100)    \n",
    "    kfold = KFold(n_splits=kf,shuffle=False,random_state=1)\n",
    "    accuracy = np.zeros(kf)\n",
    "    \n",
    "    for i,(train_index,test_index) in enumerate(kfold.split(y)):\n",
    "        X_train, X_test = X[train_index], X[test_index]\n",
    "        y_train, y_test = y[train_index], y[test_index]\n",
    "\n",
    "        # predict with ER\n",
    "        h0,w = ER.fit(X_train,y_train,niter_max=100,regu=0.005)\n",
    "        y_pred = ER.predict(X_test,h0,w)\n",
    "        accuracy[i] = accuracy_score(y_test,y_pred)\n",
    "        #print(accuracy[i])\n",
    "    return accuracy.mean(),accuracy.std()"
   ]
  },
  {
   "cell_type": "code",
   "execution_count": 9,
   "metadata": {},
   "outputs": [
    {
     "name": "stdout",
     "output_type": "stream",
     "text": [
      "('ER:', 0.835, 0.06633249580710797, 0.0)\n",
      "('ER:', 0.8400000000000001, 0.06819090848492926, 0.001)\n",
      "('ER:', 0.835, 0.06633249580710797, 0.002)\n",
      "('ER:', 0.8400000000000001, 0.06819090848492926, 0.003)\n",
      "('ER:', 0.835, 0.06633249580710797, 0.004)\n",
      "('ER:', 0.835, 0.06633249580710797, 0.005)\n",
      "('ER:', 0.8400000000000001, 0.06819090848492926, 0.01)\n",
      "('ER:', 0.8400000000000001, 0.06819090848492926, 0.02)\n",
      "('ER:', 0.835, 0.06633249580710797, 0.1)\n",
      "('ER:', 0.8400000000000001, 0.06819090848492926, 0.2)\n",
      "('ER:', 0.835, 0.06633249580710797, 0.5)\n",
      "('ER:', 0.8400000000000001, 0.06819090848492926, 0.6)\n",
      "('ER:', 0.8400000000000001, 0.06819090848492926, 0.8)\n",
      "('ER:', 0.8400000000000001, 0.06819090848492926, 1.0)\n"
     ]
    }
   ],
   "source": [
    "regu_list = [0.0,0.001,0.002,0.003,0.004,0.005,0.01,0.02,0.1,0.2,0.5,0.6,0.8,1.]\n",
    "for regu in regu_list:\n",
    "    accuracy_mean,accuracy_std = ER_inference(X,y,kf,regu)\n",
    "    print('ER:',accuracy_mean,accuracy_std,regu)"
   ]
  },
  {
   "cell_type": "markdown",
   "metadata": {},
   "source": [
    "#### Logistic Regression"
   ]
  },
  {
   "cell_type": "code",
   "execution_count": 10,
   "metadata": {},
   "outputs": [],
   "source": [
    "model = LogisticRegression(solver='liblinear')\n",
    "model.fit(X, y)\n",
    "w_lg = 0.5*model.coef_"
   ]
  },
  {
   "cell_type": "code",
   "execution_count": 11,
   "metadata": {
    "scrolled": false
   },
   "outputs": [
    {
     "data": {
      "image/png": "[encoded data removed]",
      "text/plain": [
       "<Figure size 288x216 with 1 Axes>"
      ]
     },
     "metadata": {
      "needs_background": "light"
     },
     "output_type": "display_data"
    }
   ],
   "source": [
    "plt.figure(figsize=(4,3))\n",
    "\n",
    "plt.plot([-1,1],[-1,1],'r--')\n",
    "plt.scatter(w0,w_lg)\n",
    "plt.xlabel('actual interactions')\n",
    "plt.ylabel('inferred interactios')\n",
    "\n",
    "plt.show()"
   ]
  },
  {
   "cell_type": "code",
   "execution_count": 12,
   "metadata": {},
   "outputs": [
    {
     "name": "stdout",
     "output_type": "stream",
     "text": [
      "(0.042237382313522275, 1.0)\n"
     ]
    }
   ],
   "source": [
    "y_pred = model.predict(X)\n",
    "accuracy = accuracy_score(y,y_pred)\n",
    "mse = ((w0-w_lg)**2).mean()\n",
    "print(mse,accuracy)"
   ]
  },
  {
   "cell_type": "code",
   "execution_count": 13,
   "metadata": {},
   "outputs": [],
   "source": [
    "def inference(X,y,kf=5,method='naive_bayes'):     \n",
    "    kfold = KFold(n_splits=kf,shuffle=False,random_state=1)            \n",
    "    accuracy = np.zeros(kf)\n",
    "            \n",
    "    if method == 'logistic_regression':\n",
    "        model = LogisticRegression(solver='liblinear')\n",
    "\n",
    "    if method == 'naive_bayes': \n",
    "        model = GaussianNB()\n",
    "        \n",
    "    if method == 'random_forest':\n",
    "        model = RandomForestClassifier(criterion = \"gini\", random_state = 1,\n",
    "                               max_depth=3, min_samples_leaf=5,n_estimators=100)        \n",
    "    if method == 'decision_tree':\n",
    "        model = DecisionTreeClassifier()\n",
    "        \n",
    "    if method == 'knn':    \n",
    "        model = KNeighborsClassifier()\n",
    "        \n",
    "    if method == 'svm':    \n",
    "        model = SVC(gamma='scale')     \n",
    "        \n",
    "    for i,(train_index,test_index) in enumerate(kfold.split(y)):\n",
    "        X_train, X_test = X[train_index], X[test_index]\n",
    "        y_train, y_test = y[train_index], y[test_index]\n",
    "\n",
    "        # fit and predict\n",
    "        model.fit(X_train, y_train)\n",
    "        y_pred = model.predict(X_test)\n",
    "        \n",
    "        accuracy[i] = accuracy_score(y_test,y_pred)\n",
    "        #print(accuracy[i])\n",
    "    return accuracy.mean(),accuracy.std()"
   ]
  },
  {
   "cell_type": "code",
   "execution_count": 14,
   "metadata": {},
   "outputs": [
    {
     "name": "stdout",
     "output_type": "stream",
     "text": [
      "(' logistic_regression :', 0.82, 0.05787918451395114)\n"
     ]
    }
   ],
   "source": [
    "other_methods=['logistic_regression']\n",
    "\n",
    "for i,method in enumerate(other_methods):\n",
    "    accuracy_mean,accuracy_std = inference(X,y,kf,method)\n",
    "    print('% 20s :'%method,accuracy_mean,accuracy_std)"
   ]
  },
  {
   "cell_type": "code",
   "execution_count": null,
   "metadata": {},
   "outputs": [],
   "source": []
  }
 ],
 "metadata": {
  "kernelspec": {
   "display_name": "Python 2",
   "language": "python",
   "name": "python2"
  },
  "language_info": {
   "codemirror_mode": {
    "name": "ipython",
    "version": 2
   },
   "file_extension": ".py",
   "mimetype": "text/x-python",
   "name": "python",
   "nbconvert_exporter": "python",
   "pygments_lexer": "ipython2",
   "version": "2.7.16"
  }
 },
 "nbformat": 4,
 "nbformat_minor": 2
}
