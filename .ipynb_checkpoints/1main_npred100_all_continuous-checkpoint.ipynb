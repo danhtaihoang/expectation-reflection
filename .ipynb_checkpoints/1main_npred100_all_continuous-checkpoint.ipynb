{
 "cells": [
  {
   "cell_type": "markdown",
   "metadata": {},
   "source": [
    "## Expectation Reflection for Classification"
   ]
  },
  {
   "cell_type": "code",
   "execution_count": 1,
   "metadata": {},
   "outputs": [],
   "source": [
    "import numpy as np\n",
    "from sklearn.model_selection import train_test_split\n",
    "from sklearn.model_selection import KFold\n",
    "from sklearn.utils import shuffle\n",
    "from sklearn.metrics import accuracy_score\n",
    "\n",
    "import expectation_reflection as ER\n",
    "from sklearn.linear_model import LogisticRegression\n",
    "\n",
    "import matplotlib.pyplot as plt\n",
    "%matplotlib inline"
   ]
  },
  {
   "cell_type": "code",
   "execution_count": 2,
   "metadata": {},
   "outputs": [],
   "source": [
    "np.random.seed(1)"
   ]
  },
  {
   "cell_type": "code",
   "execution_count": 3,
   "metadata": {},
   "outputs": [],
   "source": [
    "def synthesize_data(l,n,g,data_type='discrete'):        \n",
    "    if data_type == 'binary':\n",
    "        X = np.sign(np.random.rand(l,n)-0.5)\n",
    "        w = np.random.normal(0.,g/np.sqrt(n),size=n)\n",
    "        \n",
    "    if data_type == 'continuous':\n",
    "        X = 2*np.random.rand(l,n)-1\n",
    "        w = np.random.normal(0.,g/np.sqrt(n),size=n)\n",
    "        \n",
    "    if data_type == 'categorical':        \n",
    "        from sklearn.preprocessing import OneHotEncoder\n",
    "        m = 5 # categorical number for each variables\n",
    "        # initial s (categorical variables)\n",
    "        s = np.random.randint(0,m,size=(l,n)) # integer values\n",
    "        onehot_encoder = OneHotEncoder(sparse=False,categories='auto')\n",
    "        X = onehot_encoder.fit_transform(s)\n",
    "        w = np.random.normal(0.,g/np.sqrt(n),size=n*m)\n",
    "        \n",
    "    h = X.dot(w)\n",
    "    p = 1/(1+np.exp(-2*h)) # kinetic\n",
    "    #p = 1/(1+np.exp(-h))  # logistic regression\n",
    "    y = np.sign(p - np.random.rand(l))\n",
    "    return w,X,y"
   ]
  },
  {
   "cell_type": "code",
   "execution_count": 4,
   "metadata": {},
   "outputs": [],
   "source": [
    "from sklearn.linear_model import LogisticRegression\n",
    "from sklearn.naive_bayes import GaussianNB\n",
    "from sklearn.tree import DecisionTreeClassifier\n",
    "from sklearn.ensemble import RandomForestClassifier\n",
    "\n",
    "def ML_inference(X_train,y_train,X_test,y_test,method='expectation_reflection'):\n",
    "    if method == 'expectation_reflection':\n",
    "        h0,w = ER.fit(X_train,y_train,niter_max=100,regu=0.0)\n",
    "        y_pred = ER.predict(X_test,h0,w)\n",
    "        accuracy = accuracy_score(y_test,y_pred)\n",
    "        \n",
    "    else:\n",
    "        if method == 'logistic_regression':\n",
    "            model = LogisticRegression(solver='liblinear')\n",
    "\n",
    "        if method == 'naive_bayes': \n",
    "            model = GaussianNB()\n",
    "\n",
    "        if method == 'random_forest':\n",
    "            model = RandomForestClassifier(criterion = \"gini\", random_state = 1,\n",
    "                           max_depth=3, min_samples_leaf=5,n_estimators=100)        \n",
    "        if method == 'decision_tree':\n",
    "            model = DecisionTreeClassifier()  \n",
    "\n",
    "        model.fit(X_train, y_train)\n",
    "        y_pred = model.predict(X_test)        \n",
    "        accuracy = accuracy_score(y_test,y_pred)\n",
    "    return accuracy"
   ]
  },
  {
   "cell_type": "code",
   "execution_count": 5,
   "metadata": {},
   "outputs": [],
   "source": [
    "list_methods=['expectation_reflection','naive_bayes','logistic_regression','decision_tree','random_forest']\n",
    "def compare_ML_inference(X,y,train_size):\n",
    "    npred = 100\n",
    "    accuracy = np.zeros((len(list_methods),npred))\n",
    "    for ipred in range(npred):\n",
    "        X, y = shuffle(X, y)\n",
    "        X_train0,X_test,y_train0,y_test = train_test_split(X,y,test_size=0.2,random_state = ipred)\n",
    "\n",
    "        idx_train = np.random.choice(len(y_train0),size=int(train_size*len(y_train0)),replace=False)\n",
    "        X_train,y_train = X_train0[idx_train],y_train0[idx_train]\n",
    "\n",
    "        for i,method in enumerate(list_methods):\n",
    "            accuracy[i,ipred] = ML_inference(X_train,y_train,X_test,y_test,method)\n",
    "            #print('% 20s :'%method,accuracy)            \n",
    "        #print(y_train.shape[0],y_test.shape[0])\n",
    "\n",
    "    return accuracy.mean(axis=1),accuracy.std(axis=1)"
   ]
  },
  {
   "cell_type": "markdown",
   "metadata": {},
   "source": [
    "### Continuous variables"
   ]
  },
  {
   "cell_type": "code",
   "execution_count": 6,
   "metadata": {},
   "outputs": [],
   "source": [
    "l = 10000\n",
    "n = 100\n",
    "g = 6."
   ]
  },
  {
   "cell_type": "code",
   "execution_count": 7,
   "metadata": {},
   "outputs": [],
   "source": [
    "w0,X,y = synthesize_data(l,n,g,data_type='continuous')"
   ]
  },
  {
   "cell_type": "code",
   "execution_count": 8,
   "metadata": {},
   "outputs": [
    {
     "name": "stdout",
     "output_type": "stream",
     "text": [
      "(1.0, array([0.9236  , 0.9108  , 0.9241  , 0.601075, 0.740945]))\n",
      "(0.8, array([0.921925, 0.907145, 0.922525, 0.597395, 0.742485]))\n",
      "(0.6, array([0.920435, 0.90146 , 0.921085, 0.59734 , 0.745125]))\n",
      "(0.4, array([0.916305, 0.89103 , 0.91688 , 0.59099 , 0.742005]))\n",
      "(0.2, array([0.907015, 0.870085, 0.90751 , 0.584475, 0.73904 ]))\n",
      "(0.1, array([0.887215, 0.835795, 0.889355, 0.574995, 0.723955]))\n",
      "(0.05, array([0.847945, 0.79206 , 0.853695, 0.565305, 0.693385]))\n"
     ]
    }
   ],
   "source": [
    "list_train_size = [1.,0.8,0.6,0.4,0.2,0.1,0.05]\n",
    "\n",
    "acc = np.zeros((len(list_train_size),len(list_methods)))\n",
    "acc_std = np.zeros((len(list_train_size),len(list_methods)))\n",
    "for i,train_size in enumerate(list_train_size):\n",
    "    acc[i,:],acc_std[i,:] = compare_ML_inference(X,y,train_size)\n",
    "    print(train_size,acc[i,:])"
   ]
  },
  {
   "cell_type": "code",
   "execution_count": 9,
   "metadata": {},
   "outputs": [
    {
     "data": {
      "text/plain": [
       "<matplotlib.legend.Legend at 0x7fbe403b7290>"
      ]
     },
     "execution_count": 9,
     "metadata": {},
     "output_type": "execute_result"
    },
    {
     "data": {
      "image/png": "[encoded data removed]",
      "text/plain": [
       "<Figure size 288x216 with 1 Axes>"
      ]
     },
     "metadata": {
      "needs_background": "light"
     },
     "output_type": "display_data"
    }
   ],
   "source": [
    "plt.figure(figsize=(4,3))\n",
    "plt.plot(list_train_size,acc[:,0],'k-',label='ER')\n",
    "plt.plot(list_train_size,acc[:,1],'b-',label='NB')\n",
    "plt.plot(list_train_size,acc[:,2],'r-',label='LR')\n",
    "plt.plot(list_train_size,acc[:,3],'b--',label='DT')\n",
    "plt.plot(list_train_size,acc[:,4],'r--',label='RF')\n",
    "plt.xlabel('train-size')\n",
    "plt.ylabel('acc')\n",
    "plt.legend()"
   ]
  },
  {
   "cell_type": "code",
   "execution_count": null,
   "metadata": {},
   "outputs": [],
   "source": []
  }
 ],
 "metadata": {
  "kernelspec": {
   "display_name": "Python 2",
   "language": "python",
   "name": "python2"
  },
  "language_info": {
   "codemirror_mode": {
    "name": "ipython",
    "version": 2
   },
   "file_extension": ".py",
   "mimetype": "text/x-python",
   "name": "python",
   "nbconvert_exporter": "python",
   "pygments_lexer": "ipython2",
   "version": "2.7.16"
  }
 },
 "nbformat": 4,
 "nbformat_minor": 2
}
