{
 "cells": [
  {
   "cell_type": "markdown",
   "metadata": {},
   "source": [
    "## Synthetic data: Binary variables"
   ]
  },
  {
   "cell_type": "code",
   "execution_count": 1,
   "metadata": {},
   "outputs": [],
   "source": [
    "import numpy as np\n",
    "import pandas as pd\n",
    "from sklearn.model_selection import train_test_split\n",
    "from sklearn.utils import shuffle\n",
    "from sklearn.metrics import accuracy_score\n",
    "\n",
    "from synthesize_data import synthesize_data\n",
    "import expectation_reflection as ER\n",
    "\n",
    "import matplotlib.pyplot as plt\n",
    "%matplotlib inline"
   ]
  },
  {
   "cell_type": "code",
   "execution_count": 2,
   "metadata": {},
   "outputs": [],
   "source": [
    "np.random.seed(1)"
   ]
  },
  {
   "cell_type": "code",
   "execution_count": 3,
   "metadata": {},
   "outputs": [],
   "source": [
    "l = 10000 ; n = 100 ; g = 5."
   ]
  },
  {
   "cell_type": "code",
   "execution_count": 4,
   "metadata": {},
   "outputs": [],
   "source": [
    "X,y,w0 = synthesize_data(l,n,g,data_type='binary')"
   ]
  },
  {
   "cell_type": "code",
   "execution_count": 5,
   "metadata": {},
   "outputs": [
    {
     "data": {
      "text/plain": [
       "(array([-1.,  1.]), array([5044, 4956]))"
      ]
     },
     "execution_count": 5,
     "metadata": {},
     "output_type": "execute_result"
    }
   ],
   "source": [
    "np.unique(y,return_counts=True)"
   ]
  },
  {
   "cell_type": "code",
   "execution_count": 6,
   "metadata": {},
   "outputs": [],
   "source": [
    "def inference(X_train,y_train,X_test,y_test):\n",
    "    h0,w = ER.fit(X_train,y_train,niter_max=200)\n",
    "    mse = ((w-w0)**2).mean() \n",
    "    y_pred = ER.predict(X_test,h0,w)        \n",
    "    accuracy = accuracy_score(y_test,y_pred)                \n",
    "    return w,mse,accuracy"
   ]
  },
  {
   "cell_type": "code",
   "execution_count": 7,
   "metadata": {},
   "outputs": [],
   "source": [
    "def repeat_inference(X,y,train_size):\n",
    "    npred = 100    \n",
    "    w = np.zeros((npred,X.shape[1]))\n",
    "    mse = np.zeros(npred)\n",
    "    accuracy = np.zeros(npred)\n",
    "    \n",
    "    for ipred in range(npred):\n",
    "        X, y = shuffle(X, y)\n",
    "        X_train0,X_test,y_train0,y_test = train_test_split(X,y,test_size=0.2,random_state = ipred)\n",
    "        idx_train = np.random.choice(len(y_train0),size=int(train_size*len(y)),replace=False)\n",
    "        X_train,y_train = X_train0[idx_train],y_train0[idx_train]\n",
    "        \n",
    "        w[ipred,:],mse[ipred],accuracy[ipred] = inference(X_train,y_train,X_test,y_test)\n",
    "            \n",
    "    return w[0],mse.mean(),mse.std(),accuracy.mean(),accuracy.std()"
   ]
  },
  {
   "cell_type": "code",
   "execution_count": null,
   "metadata": {},
   "outputs": [],
   "source": [
    "list_train_size = [0.2,0.4,0.6,0.8]\n",
    "\n",
    "nsize = len(list_train_size)\n",
    "w = np.zeros((nsize,n))\n",
    "mse = np.zeros(nsize)\n",
    "mse_std = np.zeros(nsize)\n",
    "acc = np.zeros(nsize)\n",
    "acc_std = np.zeros(nsize)\n",
    "for i,train_size in enumerate(list_train_size):\n",
    "    w[i,:],mse[i],mse_std[i],acc[i],acc_std[i] = repeat_inference(X,y,train_size)"
   ]
  },
  {
   "cell_type": "code",
   "execution_count": null,
   "metadata": {},
   "outputs": [],
   "source": [
    "plt.figure(figsize=(11,3.2))\n",
    "\n",
    "plt.subplot2grid((1,3),(0,0))\n",
    "plt.plot([-2,2],[-2,2],'r--')\n",
    "plt.scatter(w0,w[0,:],marker='^',color='r',label='train size = 0.2')\n",
    "plt.scatter(w0,w[-1,:],marker='o',color='k',label='train size = 0.8')\n",
    "plt.xlabel('actual interaction')\n",
    "plt.ylabel('inferred interaction')\n",
    "plt.legend()\n",
    "\n",
    "plt.subplot2grid((1,3),(0,1))\n",
    "plt.plot(list_train_size,mse,'ko-')\n",
    "#plt.fill_between(list_train_size,mse-mse_std,mse+mse_std)\n",
    "plt.xlabel('train size')\n",
    "plt.ylabel('Mean Square Error')\n",
    "\n",
    "plt.subplot2grid((1,3),(0,2))\n",
    "plt.plot(list_train_size,acc,'ko-')\n",
    "#plt.fill_between(list_train_size,acc-acc_std,acc+acc_std)\n",
    "plt.xlabel('train size')\n",
    "plt.ylabel('Predicted Accuracy')\n",
    "\n",
    "plt.tight_layout(h_pad=1, w_pad=1.5)\n",
    "plt.show()"
   ]
  },
  {
   "cell_type": "code",
   "execution_count": null,
   "metadata": {},
   "outputs": [],
   "source": []
  }
 ],
 "metadata": {
  "kernelspec": {
   "display_name": "Python 3",
   "language": "python",
   "name": "python3"
  },
  "language_info": {
   "codemirror_mode": {
    "name": "ipython",
    "version": 3
   },
   "file_extension": ".py",
   "mimetype": "text/x-python",
   "name": "python",
   "nbconvert_exporter": "python",
   "pygments_lexer": "ipython3",
   "version": "3.7.3"
  }
 },
 "nbformat": 4,
 "nbformat_minor": 2
}
