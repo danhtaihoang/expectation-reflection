{
 "cells": [
  {
   "cell_type": "code",
   "execution_count": 1,
   "metadata": {},
   "outputs": [],
   "source": [
    "import numpy as np\n",
    "import pandas as pd\n",
    "\n",
    "from sklearn.utils import shuffle\n",
    "from sklearn.preprocessing import MinMaxScaler\n",
    "\n",
    "from sklearn.model_selection import train_test_split\n",
    "from sklearn.model_selection import KFold\n",
    "from sklearn.utils import shuffle\n",
    "from sklearn.metrics import accuracy_score\n",
    "\n",
    "from sklearn.linear_model import LogisticRegression\n",
    "from sklearn.linear_model import LogisticRegressionCV\n",
    "import expectation_reflection as ER\n",
    "\n",
    "import matplotlib.pyplot as plt\n",
    "%matplotlib inline"
   ]
  },
  {
   "cell_type": "code",
   "execution_count": 2,
   "metadata": {},
   "outputs": [],
   "source": [
    "np.random.seed(1)"
   ]
  },
  {
   "cell_type": "code",
   "execution_count": null,
   "metadata": {},
   "outputs": [],
   "source": [
    "data_name = 'diabetes'"
   ]
  },
  {
   "cell_type": "code",
   "execution_count": 3,
   "metadata": {},
   "outputs": [
    {
     "data": {
      "text/plain": [
       "(array([0., 1.]), array([481, 252]))"
      ]
     },
     "execution_count": 3,
     "metadata": {},
     "output_type": "execute_result"
    }
   ],
   "source": [
    "# load data\n",
    "X = np.loadtxt('../%s_X.txt'%data_name)\n",
    "y = np.loadtxt('../%s_y.txt'%data_name)\n",
    "np.unique(y,return_counts=True)"
   ]
  },
  {
   "cell_type": "code",
   "execution_count": 4,
   "metadata": {},
   "outputs": [],
   "source": [
    "X, y = shuffle(X, y)"
   ]
  },
  {
   "cell_type": "markdown",
   "metadata": {},
   "source": [
    "### Prediction"
   ]
  },
  {
   "cell_type": "code",
   "execution_count": 5,
   "metadata": {},
   "outputs": [],
   "source": [
    "def inference(X_train,y_train,X_test,y_test,method='ER'):\n",
    "    if method == 'ER':\n",
    "        h0,w = ER.fit(X_train,y_train,niter_max=2000,l2=0.001,classtype='binary')\n",
    "        y_pred = ER.predict(X_test,h0,w,classtype='binary')\n",
    "    else:      \n",
    "        if method == 'LR': # LogisticRegression with cross-validation\n",
    "            model = LogisticRegressionCV(cv=4,random_state=0,penalty='l2',solver='liblinear')\n",
    "            \n",
    "        if method == 'LRnonCV':\n",
    "            model = LogisticRegression(solver='liblinear')\n",
    "        \n",
    "        #X_train_rescale = MinMaxScaler().fit_transform(X_train)\n",
    "        #X_test_rescale = MinMaxScaler().fit_transform(X_test) \n",
    "        #model.fit(X_train_rescale,y_train)\n",
    "        #y_pred = model.predict(X_test_rescale)\n",
    "        \n",
    "        model.fit(X_train,y_train)\n",
    "        y_pred = model.predict(X_test)\n",
    "                \n",
    "    accuracy = accuracy_score(y_test,y_pred)\n",
    "    \n",
    "    return accuracy    "
   ]
  },
  {
   "cell_type": "code",
   "execution_count": 6,
   "metadata": {},
   "outputs": [],
   "source": [
    "def compare_inference(X,y,train_size):\n",
    "    npred = 100\n",
    "    accuracy = np.zeros((len(list_methods),npred))\n",
    "    precision = np.zeros((len(list_methods),npred))\n",
    "    recall = np.zeros((len(list_methods),npred))\n",
    "    accuracy_train = np.zeros((len(list_methods),npred))\n",
    "    for ipred in range(npred):\n",
    "        X_train0,X_test,y_train0,y_test = train_test_split(X,y,test_size=0.2,random_state = ipred)\n",
    "\n",
    "        idx_train = np.random.choice(len(y_train0),size=int(train_size*len(y)),replace=False)\n",
    "        X_train,y_train = X_train0[idx_train],y_train0[idx_train]\n",
    "\n",
    "        #X_train = MinMaxScaler().fit_transform(X_train)\n",
    "        #X_test = MinMaxScaler().fit_transform(X_test)  \n",
    "        \n",
    "        # 2019.07.15\n",
    "        for i,method in enumerate(list_methods):\n",
    "            accuracy[i,ipred] = inference(X_train,y_train,X_test,y_test,method)\n",
    "            \n",
    "    return accuracy.mean(axis=1),accuracy.std(axis=1)"
   ]
  },
  {
   "cell_type": "code",
   "execution_count": 7,
   "metadata": {
    "scrolled": false
   },
   "outputs": [
    {
     "name": "stdout",
     "output_type": "stream",
     "text": [
      "0.8 [0.77034014 0.7629932  0.76857143]\n",
      "0.6 [0.76761905 0.75666667 0.76816327]\n",
      "0.4 [0.76340136 0.74870748 0.76510204]\n",
      "0.2 [0.75891156 0.73285714 0.75857143]\n"
     ]
    }
   ],
   "source": [
    "list_train_size = [0.8,0.6,0.4,0.2]\n",
    "list_methods=['ER','LRnonCV','LR']\n",
    "acc = np.zeros((len(list_train_size),len(list_methods)))\n",
    "acc_std = np.zeros((len(list_train_size),len(list_methods)))\n",
    "for i,train_size in enumerate(list_train_size):\n",
    "    acc[i,:],acc_std[i,:] = compare_inference(X,y,train_size)\n",
    "    print(train_size,acc[i,:])"
   ]
  },
  {
   "cell_type": "code",
   "execution_count": 9,
   "metadata": {},
   "outputs": [],
   "source": [
    "np.savetxt('%s_acc.txt'%data_name,acc,fmt='%f')\n",
    "np.savetxt('%s_std.txt'%data_name,acc_std,fmt='%f')"
   ]
  }
 ],
 "metadata": {
  "kernelspec": {
   "display_name": "Python 3",
   "language": "python",
   "name": "python3"
  },
  "language_info": {
   "codemirror_mode": {
    "name": "ipython",
    "version": 3
   },
   "file_extension": ".py",
   "mimetype": "text/x-python",
   "name": "python",
   "nbconvert_exporter": "python",
   "pygments_lexer": "ipython3",
   "version": "3.7.3"
  }
 },
 "nbformat": 4,
 "nbformat_minor": 2
}
