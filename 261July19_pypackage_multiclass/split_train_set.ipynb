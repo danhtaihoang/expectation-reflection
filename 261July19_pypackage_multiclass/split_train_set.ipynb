{
 "cells": [
  {
   "cell_type": "code",
   "execution_count": 1,
   "metadata": {},
   "outputs": [],
   "source": [
    "import numpy as np\n",
    "import pandas as pd\n",
    "\n",
    "from sklearn.utils import shuffle\n",
    "\n",
    "import matplotlib.pyplot as plt\n",
    "%matplotlib inline"
   ]
  },
  {
   "cell_type": "code",
   "execution_count": 2,
   "metadata": {},
   "outputs": [],
   "source": [
    "np.random.seed(1)"
   ]
  },
  {
   "cell_type": "code",
   "execution_count": 3,
   "metadata": {},
   "outputs": [],
   "source": [
    "data_name = 'breasttissue'"
   ]
  },
  {
   "cell_type": "code",
   "execution_count": 4,
   "metadata": {},
   "outputs": [
    {
     "data": {
      "text/plain": [
       "(array([0., 1., 2., 3.]), array([49, 22, 21, 14]))"
      ]
     },
     "execution_count": 4,
     "metadata": {},
     "output_type": "execute_result"
    }
   ],
   "source": [
    "# load data\n",
    "X = np.loadtxt('../%s_X.txt'%data_name)\n",
    "y = np.loadtxt('../%s_y.txt'%data_name)\n",
    "np.unique(y,return_counts=True)"
   ]
  },
  {
   "cell_type": "code",
   "execution_count": 10,
   "metadata": {},
   "outputs": [],
   "source": [
    "test_size = 0.2\n",
    "train_size = 0.4"
   ]
  },
  {
   "cell_type": "code",
   "execution_count": 45,
   "metadata": {},
   "outputs": [],
   "source": [
    "def split_train_test(X,y,train_size,test_size):\n",
    "    ## split train, test with the same fraction in each class (from y).\n",
    "    X, y = shuffle(X, y)\n",
    "    \n",
    "    y_unique,ny = np.unique(y,return_counts=True)\n",
    "\n",
    "    for i in range(len(y_unique)):\n",
    "        t = y == y_unique[i]\n",
    "\n",
    "        Xi,yi = X[t],y[t]\n",
    "\n",
    "        # test\n",
    "        t1 = np.random.choice(len(yi),size=int(test_size*len(yi)),replace=False)\n",
    "        # train\n",
    "        t2 = np.random.choice(np.delete(np.arange(len(yi)),t1),size=int(train_size*len(yi)),replace=False)\n",
    "\n",
    "        X1,y1 = Xi[t1],yi[t1]\n",
    "        X2,y2 = Xi[t2],yi[t2]\n",
    "\n",
    "        if i == 0:\n",
    "            X_test,y_test = X1,y1\n",
    "            X_train,y_train = X2,y2\n",
    "        else:\n",
    "            X_test = np.vstack([X_test,X1])\n",
    "            y_test = np.hstack([y_test,y1])\n",
    "            X_train = np.vstack([X_train,X2])\n",
    "            y_train = np.hstack([y_train,y2])\n",
    "\n",
    "            #print(i,X_test.shape,y_test.shape)\n",
    "            #print(i,X_train.shape,y_train.shape)\n",
    "    X_train, y_train = shuffle(X_train, y_train)            \n",
    "    X_test, y_test = shuffle(X_test, y_test)\n",
    "    return X_train,X_test,y_train,y_test"
   ]
  },
  {
   "cell_type": "code",
   "execution_count": 46,
   "metadata": {},
   "outputs": [],
   "source": [
    "X_train,X_test,y_train,y_test = split_train_test(X,y,train_size,test_size)"
   ]
  },
  {
   "cell_type": "code",
   "execution_count": null,
   "metadata": {},
   "outputs": [],
   "source": []
  }
 ],
 "metadata": {
  "kernelspec": {
   "display_name": "Python 3",
   "language": "python",
   "name": "python3"
  },
  "language_info": {
   "codemirror_mode": {
    "name": "ipython",
    "version": 3
   },
   "file_extension": ".py",
   "mimetype": "text/x-python",
   "name": "python",
   "nbconvert_exporter": "python",
   "pygments_lexer": "ipython3",
   "version": "3.7.3"
  }
 },
 "nbformat": 4,
 "nbformat_minor": 2
}
