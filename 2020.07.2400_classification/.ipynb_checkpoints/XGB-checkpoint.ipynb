{
 "cells": [
  {
   "cell_type": "markdown",
   "metadata": {},
   "source": [
    "## eXtreme Gradient Boosting (XGBoost)"
   ]
  },
  {
   "cell_type": "code",
   "execution_count": 1,
   "metadata": {},
   "outputs": [],
   "source": [
    "import numpy as np\n",
    "import pandas as pd\n",
    "\n",
    "from sklearn.model_selection import train_test_split,KFold\n",
    "from sklearn.utils import shuffle\n",
    "from sklearn.metrics import confusion_matrix,accuracy_score,precision_score,\\\n",
    "recall_score,roc_curve,auc\n",
    "\n",
    "from sklearn.model_selection import GridSearchCV\n",
    "from xgboost import XGBClassifier\n",
    "\n",
    "import matplotlib.pyplot as plt\n",
    "import seaborn as sns\n",
    "\n",
    "from sklearn.preprocessing import MinMaxScaler\n",
    "from function import split_train_test,make_data_balance"
   ]
  },
  {
   "cell_type": "code",
   "execution_count": 2,
   "metadata": {},
   "outputs": [],
   "source": [
    "np.random.seed(1)"
   ]
  },
  {
   "cell_type": "markdown",
   "metadata": {},
   "source": [
    "First of all, the processed data are imported."
   ]
  },
  {
   "cell_type": "code",
   "execution_count": 3,
   "metadata": {},
   "outputs": [
    {
     "name": "stdout",
     "output_type": "stream",
     "text": [
      "['1paradox' '2peptide' '3stigma' '4nki' '5mental' '6smoking' '7anemia'\n",
      " '8language' '9coag' '10tazamia' '11hepato' '12heat' '13ef' '14cervix'\n",
      " '15heart' '16liver' '17nwosu' '18school' '19ibs' '21survival'\n",
      " '29parkinson' '30paradox2' '31renal' '33svr' '35pcos' '36probiotic'\n",
      " '101kidney' '102breast_cancer' '103diabetes_niddk'\n",
      " '104diabetic_retinopathy']\n"
     ]
    }
   ],
   "source": [
    "#data_list = ['1paradox']\n",
    "#data_list = np.loadtxt('data_list.txt',dtype='str')\n",
    "data_list = np.loadtxt('data_list_30sets.txt',dtype='str')\n",
    "#data_list = ['9coag']\n",
    "\n",
    "print(data_list)"
   ]
  },
  {
   "cell_type": "code",
   "execution_count": 4,
   "metadata": {},
   "outputs": [],
   "source": [
    "def read_data(data_id):    \n",
    "    data_name = data_list[data_id]\n",
    "    print('data_name:',data_name)\n",
    "    Xy = np.loadtxt('../classification_data/%s/data_processed_median.dat'%data_name) \n",
    "    X = Xy[:,:-1]\n",
    "    y = Xy[:,-1]\n",
    "\n",
    "    #print(np.unique(y,return_counts=True))\n",
    "    X,y = make_data_balance(X,y)\n",
    "    print(np.unique(y,return_counts=True))\n",
    "\n",
    "    X, y = shuffle(X, y, random_state=1)\n",
    "    X_train,X_test,y_train,y_test = train_test_split(X,y,test_size=0.5,random_state = 1)\n",
    "    \n",
    "    sc = MinMaxScaler()\n",
    "    X_train = sc.fit_transform(X_train)\n",
    "    X_test = sc.transform(X_test)\n",
    "    \n",
    "    return X_train,X_test,y_train,y_test"
   ]
  },
  {
   "cell_type": "code",
   "execution_count": 5,
   "metadata": {},
   "outputs": [],
   "source": [
    "def measure_performance(X_train,X_test,y_train,y_test):\n",
    "    \n",
    "    model = XGBClassifier(tree_method = 'auto')\n",
    "\n",
    "    n_estimators = [10,20,40,60,80,100,120,140]\n",
    "    max_depth = [2,4,6,8,10,12]\n",
    "    \n",
    "    #l2 regularization term\n",
    "    _lambda = np.logspace(-4,1,num=6) \n",
    "    \n",
    "    #l1 regularization term\n",
    "    alpha = np.logspace(-4,1,num=6) \n",
    "    \n",
    "    # Create hyperparameter options\n",
    "    hyper_parameters = dict(n_estimators=n_estimators, max_depth = max_depth, alpha = alpha)\n",
    "    \n",
    "    # Create grid search using cross validation\n",
    "    clf = GridSearchCV(model, hyper_parameters, cv=4, iid='deprecated')\n",
    "    \n",
    "    # Fit grid search\n",
    "    best_model = clf.fit(X_train, y_train)\n",
    "    \n",
    "    # View best hyperparameters\n",
    "    #print('Best Penalty:', best_model.best_estimator_.get_params()['penalty'])\n",
    "    #print('Best C:', best_model.best_estimator_.get_params()['C'])\n",
    "    #print('Best alpha:', best_model.best_estimator_.get_params()['alpha'])\n",
    "    #print('Best l1_ratio:', best_model.best_estimator_.get_params()['l1_ratio'])\n",
    "    \n",
    "    # best hyper parameters\n",
    "    print('best_hyper_parameters:',best_model.best_params_)\n",
    "\n",
    "    # performance:\n",
    "    y_test_pred = best_model.best_estimator_.predict(X_test)\n",
    "    acc = accuracy_score(y_test,y_test_pred)\n",
    "    #print('Accuracy:', acc)\n",
    "\n",
    "    p_test_pred = best_model.best_estimator_.predict_proba(X_test) # prob of [0,1]\n",
    "    p_test_pred = p_test_pred[:,1] # prob of 1    \n",
    "    fp,tp,thresholds = roc_curve(y_test, p_test_pred, drop_intermediate=False)\n",
    "    roc_auc = auc(fp,tp)\n",
    "    #print('AUC:', roc_auc)\n",
    "\n",
    "    precision = precision_score(y_test,y_test_pred)\n",
    "    #print('Precision:',precision)\n",
    "\n",
    "    recall = recall_score(y_test,y_test_pred)\n",
    "    #print('Recall:',recall)\n",
    "    \n",
    "    f1_score = 2*precision*recall/(precision+recall)\n",
    "\n",
    "    return acc,roc_auc,precision,recall,f1_score"
   ]
  },
  {
   "cell_type": "code",
   "execution_count": 6,
   "metadata": {},
   "outputs": [
    {
     "name": "stdout",
     "output_type": "stream",
     "text": [
      "data_name: 1paradox\n",
      "(array([-1.,  1.]), array([60, 60]))\n",
      "best_hyper_parameters: {'alpha': 0.0001, 'max_depth': 2, 'n_estimators': 10}\n",
      "0 0.7666666666666667 0.9095182138660398 0.6451612903225806 0.8695652173913043 0.7407407407407407\n",
      "data_name: 2peptide\n",
      "(array([-1.,  1.]), array([23, 23]))\n",
      "best_hyper_parameters: {'alpha': 0.0001, 'max_depth': 2, 'n_estimators': 10}\n",
      "1 1.0 1.0 1.0 1.0 1.0\n",
      "data_name: 3stigma\n",
      "(array([-1.,  1.]), array([2725, 2725]))\n",
      "best_hyper_parameters: {'alpha': 0.0001, 'max_depth': 4, 'n_estimators': 40}\n",
      "2 1.0 1.0 1.0 1.0 1.0\n",
      "data_name: 4nki\n",
      "(array([-1.,  1.]), array([77, 77]))\n",
      "best_hyper_parameters: {'alpha': 0.0001, 'max_depth': 2, 'n_estimators': 10}\n",
      "3 0.8701298701298701 0.8953168044077136 0.925 0.8409090909090909 0.8809523809523809\n",
      "data_name: 5mental\n",
      "(array([-1.,  1.]), array([147, 147]))\n",
      "best_hyper_parameters: {'alpha': 10.0, 'max_depth': 2, 'n_estimators': 10}\n",
      "4 0.6802721088435374 0.7379227053140096 0.7123287671232876 0.6666666666666666 0.6887417218543046\n",
      "data_name: 6smoking\n",
      "(array([-1.,  1.]), array([722, 722]))\n",
      "best_hyper_parameters: {'alpha': 0.0001, 'max_depth': 2, 'n_estimators': 10}\n",
      "5 1.0 1.0 1.0 1.0 1.0\n",
      "data_name: 7anemia\n",
      "(array([-1.,  1.]), array([43, 43]))\n",
      "best_hyper_parameters: {'alpha': 0.0001, 'max_depth': 4, 'n_estimators': 40}\n",
      "6 0.9069767441860465 0.9533333333333334 1.0 0.84 0.9130434782608696\n",
      "data_name: 8language\n",
      "(array([-1.,  1.]), array([267, 267]))\n",
      "best_hyper_parameters: {'alpha': 0.01, 'max_depth': 4, 'n_estimators': 60}\n",
      "7 0.7565543071161048 0.8242029636281993 0.7391304347826086 0.7786259541984732 0.758364312267658\n",
      "data_name: 9coag\n",
      "(array([-1.,  1.]), array([504, 504]))\n",
      "best_hyper_parameters: {'alpha': 0.01, 'max_depth': 4, 'n_estimators': 20}\n",
      "8 0.5972222222222222 0.6262256256414305 0.6347826086956522 0.5509433962264151 0.5898989898989898\n",
      "data_name: 10tazamia\n",
      "(array([-1.,  1.]), array([124, 124]))\n",
      "best_hyper_parameters: {'alpha': 0.01, 'max_depth': 2, 'n_estimators': 60}\n",
      "9 0.7096774193548387 0.7822685788787485 0.7543859649122807 0.6615384615384615 0.7049180327868853\n",
      "data_name: 11hepato\n",
      "(array([-1.,  1.]), array([63, 63]))\n",
      "best_hyper_parameters: {'alpha': 1.0, 'max_depth': 2, 'n_estimators': 10}\n",
      "10 0.6825396825396826 0.7398989898989898 0.6857142857142857 0.7272727272727273 0.7058823529411764\n",
      "data_name: 12heat\n",
      "(array([-1.,  1.]), array([83, 83]))\n",
      "best_hyper_parameters: {'alpha': 0.0001, 'max_depth': 2, 'n_estimators': 40}\n",
      "11 0.5903614457831325 0.5813008130081301 0.6 0.5714285714285714 0.5853658536585366\n",
      "data_name: 13ef\n",
      "(array([-1.,  1.]), array([93, 93]))\n",
      "best_hyper_parameters: {'alpha': 0.0001, 'max_depth': 2, 'n_estimators': 10}\n",
      "12 1.0 1.0 1.0 1.0 1.0\n",
      "data_name: 14cervix\n",
      "(array([-1.,  1.]), array([24, 24]))\n",
      "best_hyper_parameters: {'alpha': 0.0001, 'max_depth': 2, 'n_estimators': 10}\n",
      "13 0.6666666666666666 0.5444444444444444 0.6 0.3333333333333333 0.42857142857142855\n",
      "data_name: 15heart\n",
      "(array([-1.,  1.]), array([138, 138]))\n",
      "best_hyper_parameters: {'alpha': 0.1, 'max_depth': 2, 'n_estimators': 40}\n",
      "14 0.8115942028985508 0.905795574288725 0.76 0.8769230769230769 0.8142857142857143\n",
      "data_name: 16liver\n",
      "(array([-1.,  1.]), array([167, 167]))\n",
      "best_hyper_parameters: {'alpha': 0.0001, 'max_depth': 2, 'n_estimators': 10}\n",
      "15 0.6646706586826348 0.7139367816091954 0.6090909090909091 0.8375 0.7052631578947368\n",
      "data_name: 17nwosu\n",
      "(array([-1.,  1.]), array([59, 59]))\n",
      "best_hyper_parameters: {'alpha': 0.0001, 'max_depth': 2, 'n_estimators': 10}\n",
      "16 1.0 1.0 1.0 1.0 1.0\n",
      "data_name: 18school\n",
      "(array([-1.,  1.]), array([68, 68]))\n",
      "best_hyper_parameters: {'alpha': 0.0001, 'max_depth': 4, 'n_estimators': 40}\n",
      "17 0.8529411764705882 0.9225108225108225 0.8285714285714286 0.8787878787878788 0.8529411764705883\n",
      "data_name: 19ibs\n",
      "(array([-1.,  1.]), array([33, 33]))\n",
      "best_hyper_parameters: {'alpha': 0.0001, 'max_depth': 2, 'n_estimators': 10}\n",
      "18 1.0 1.0 1.0 1.0 1.0\n",
      "data_name: 21survival\n",
      "(array([-1.,  1.]), array([123, 123]))\n",
      "best_hyper_parameters: {'alpha': 0.0001, 'max_depth': 6, 'n_estimators': 40}\n",
      "19 0.8211382113821138 0.888095238095238 0.8166666666666667 0.8166666666666667 0.8166666666666667\n",
      "data_name: 29parkinson\n",
      "(array([-1.,  1.]), array([48, 48]))\n",
      "best_hyper_parameters: {'alpha': 0.0001, 'max_depth': 4, 'n_estimators': 20}\n",
      "20 0.8333333333333334 0.9353146853146852 0.8461538461538461 0.8461538461538461 0.8461538461538461\n",
      "data_name: 30paradox2\n",
      "(array([-1.,  1.]), array([52, 52]))\n",
      "best_hyper_parameters: {'alpha': 0.0001, 'max_depth': 2, 'n_estimators': 10}\n",
      "21 1.0 1.0 1.0 1.0 1.0\n",
      "data_name: 31renal\n",
      "(array([-1.,  1.]), array([47, 47]))\n",
      "best_hyper_parameters: {'alpha': 0.0001, 'max_depth': 2, 'n_estimators': 40}\n",
      "22 0.7872340425531915 0.8962962962962963 0.8148148148148148 0.8148148148148148 0.8148148148148148\n",
      "data_name: 33svr\n",
      "(array([-1.,  1.]), array([41, 41]))\n",
      "best_hyper_parameters: {'alpha': 0.0001, 'max_depth': 2, 'n_estimators': 10}\n",
      "23 1.0 1.0 1.0 1.0 1.0\n",
      "data_name: 35pcos\n",
      "(array([-1.,  1.]), array([177, 177]))\n",
      "best_hyper_parameters: {'alpha': 0.0001, 'max_depth': 2, 'n_estimators': 10}\n",
      "24 0.8361581920903954 0.8995786516853933 0.8734177215189873 0.7840909090909091 0.8263473053892215\n",
      "data_name: 36probiotic\n",
      "(array([-1.,  1.]), array([10, 10]))\n",
      "best_hyper_parameters: {'alpha': 0.0001, 'max_depth': 2, 'n_estimators': 10}\n",
      "25 1.0 1.0 1.0 1.0 1.0\n",
      "data_name: 101kidney\n",
      "(array([-1.,  1.]), array([149, 149]))\n",
      "best_hyper_parameters: {'alpha': 0.0001, 'max_depth': 4, 'n_estimators': 10}\n",
      "26 0.959731543624161 0.9989185291997116 0.9240506329113924 1.0 0.9605263157894737\n",
      "data_name: 102breast_cancer\n",
      "(array([-1.,  1.]), array([212, 212]))\n",
      "best_hyper_parameters: {'alpha': 0.0001, 'max_depth': 4, 'n_estimators': 60}\n",
      "27 0.9669811320754716 0.9945632798573975 0.9523809523809523 0.9803921568627451 0.966183574879227\n",
      "data_name: 103diabetes_niddk\n",
      "(array([-1.,  1.]), array([267, 267]))\n",
      "best_hyper_parameters: {'alpha': 0.1, 'max_depth': 10, 'n_estimators': 10}\n",
      "28 0.7340823970037453 0.8108517562563123 0.752 0.7014925373134329 0.7258687258687259\n",
      "data_name: 104diabetic_retinopathy\n",
      "(array([-1.,  1.]), array([536, 536]))\n",
      "best_hyper_parameters: {'alpha': 0.1, 'max_depth': 2, 'n_estimators': 100}\n",
      "29 0.6865671641791045 0.7451171875 0.6833333333333333 0.640625 0.6612903225806451\n"
     ]
    }
   ],
   "source": [
    "n_data = len(data_list)\n",
    "roc_auc = np.zeros(n_data)   ; acc = np.zeros(n_data)\n",
    "precision = np.zeros(n_data) ; recall = np.zeros(n_data)\n",
    "f1_score = np.zeros(n_data)\n",
    "\n",
    "#data_id = 0\n",
    "for data_id in range(n_data):\n",
    "    X_train,X_test,y_train,y_test = read_data(data_id)\n",
    "    acc[data_id],roc_auc[data_id],precision[data_id],recall[data_id],f1_score[data_id] =\\\n",
    "           measure_performance(X_train,X_test,y_train,y_test)\n",
    "    print(data_id,acc[data_id],roc_auc[data_id],precision[data_id],recall[data_id],f1_score[data_id])    \n",
    "    "
   ]
  },
  {
   "cell_type": "code",
   "execution_count": 7,
   "metadata": {
    "scrolled": false
   },
   "outputs": [
    {
     "name": "stdout",
     "output_type": "stream",
     "text": [
      "acc_mean: 0.8393833062600687\n",
      "roc_mean: 0.8768470425011604\n",
      "precision: 0.8385661218997674\n",
      "recall: 0.8339243435192806\n",
      "f1_score: 0.8328940304242209\n"
     ]
    }
   ],
   "source": [
    "print('acc_mean:',acc.mean())\n",
    "print('roc_mean:',roc_auc.mean())\n",
    "print('precision:',precision.mean())\n",
    "print('recall:',recall.mean())\n",
    "print('f1_score:',f1_score.mean())"
   ]
  },
  {
   "cell_type": "code",
   "execution_count": 8,
   "metadata": {},
   "outputs": [],
   "source": [
    "np.savetxt('result_XBG.dat',(roc_auc,acc,precision,recall,f1_score),fmt='%f')"
   ]
  },
  {
   "cell_type": "code",
   "execution_count": null,
   "metadata": {},
   "outputs": [],
   "source": []
  }
 ],
 "metadata": {
  "kernelspec": {
   "display_name": "Python 3",
   "language": "python",
   "name": "python3"
  },
  "language_info": {
   "codemirror_mode": {
    "name": "ipython",
    "version": 3
   },
   "file_extension": ".py",
   "mimetype": "text/x-python",
   "name": "python",
   "nbconvert_exporter": "python",
   "pygments_lexer": "ipython3",
   "version": "3.7.4"
  }
 },
 "nbformat": 4,
 "nbformat_minor": 2
}
