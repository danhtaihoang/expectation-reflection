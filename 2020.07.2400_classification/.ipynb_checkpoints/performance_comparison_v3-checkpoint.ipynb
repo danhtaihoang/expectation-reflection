{
 "cells": [
  {
   "cell_type": "code",
   "execution_count": 1,
   "metadata": {},
   "outputs": [],
   "source": [
    "import numpy as np\n",
    "import matplotlib.pyplot as plt\n",
    "import matplotlib.ticker as mtick\n",
    "%matplotlib inline"
   ]
  },
  {
   "cell_type": "code",
   "execution_count": 2,
   "metadata": {},
   "outputs": [],
   "source": [
    "np.random.seed(1)"
   ]
  },
  {
   "cell_type": "code",
   "execution_count": 3,
   "metadata": {},
   "outputs": [],
   "source": [
    "KNN = np.loadtxt('result_KNN_median.dat')\n",
    "NB = np.loadtxt('result_NB_median.dat')\n",
    "DT = np.loadtxt('result_DT_median.dat')\n",
    "SVM = np.loadtxt('result_SVM_median.dat')\n",
    "LR = np.loadtxt('result_LR_median.dat')\n",
    "RF = np.loadtxt('result_RF_median.dat')\n",
    "XGB = np.loadtxt('result_XGB.dat')\n",
    "MLP = np.loadtxt('result_MLP_median_morehyperparameters.dat')\n",
    "ER = np.loadtxt('result_ER_LAD_median.dat')"
   ]
  },
  {
   "cell_type": "code",
   "execution_count": 4,
   "metadata": {},
   "outputs": [
    {
     "name": "stdout",
     "output_type": "stream",
     "text": [
      "9 30\n"
     ]
    }
   ],
   "source": [
    "#number of methods\n",
    "m = 9\n",
    "# number of data sets\n",
    "n = LR.shape[1]\n",
    "print(m,n)\n",
    "\n",
    "## accuracy\n",
    "acc = np.zeros((m,n))"
   ]
  },
  {
   "cell_type": "code",
   "execution_count": 5,
   "metadata": {},
   "outputs": [],
   "source": [
    "def number_winnings(acc,alpha=0.):\n",
    "## find number of winning times for each method\n",
    "    m,n = acc.shape\n",
    "    n_wins = np.zeros(m)\n",
    "    \n",
    "    ## for each data\n",
    "    #j = 0\n",
    "    for j in range(n):\n",
    "        #print('j:',acc[:,j])\n",
    "        acc_max = max(acc[:,j])\n",
    "\n",
    "        for i in range(m):\n",
    "            if acc[i,j] >= (1-alpha)*acc_max:\n",
    "                n_wins[i] += 1\n",
    "    return n_wins"
   ]
  },
  {
   "cell_type": "code",
   "execution_count": 6,
   "metadata": {},
   "outputs": [],
   "source": [
    "def select_metric(i):\n",
    "    acc[0,:],acc[1,:],acc[2,:],acc[3,:],acc[4,:],acc[5,:],acc[6,:],acc[7,:],acc[8,:] = \\\n",
    "    KNN[i,:],NB[i,:],DT[i,:],SVM[i,:],MLP[i,:],LR[i,:,],XGB[i,:],RF[i,:],ER[i,:]\n",
    "    \n",
    "    return acc"
   ]
  },
  {
   "cell_type": "markdown",
   "metadata": {},
   "source": [
    "### Accuracy"
   ]
  },
  {
   "cell_type": "code",
   "execution_count": 20,
   "metadata": {},
   "outputs": [
    {
     "name": "stdout",
     "output_type": "stream",
     "text": [
      "mean: [0.82362847 0.85331333 0.85098067 0.87585083 0.86871533 0.8880063\n",
      " 0.8768471  0.89639927 0.90508067]\n",
      "std: [0.13701186 0.11758429 0.13919395 0.10655074 0.12112376 0.10696812\n",
      " 0.13398376 0.09586381 0.09855171]\n",
      "[ 3.  5.  9.  8.  9. 12. 14. 13. 19.]\n"
     ]
    }
   ],
   "source": [
    "# accuracy:\n",
    "acc = select_metric(i=0)\n",
    "\n",
    "acc_av = acc.mean(axis=1)\n",
    "acc_std = acc.std(axis=1)\n",
    "print('mean:',acc_av)\n",
    "print('std:',acc_std)\n",
    "n_wins = number_winnings(acc,alpha=0.005)\n",
    "#n_wins = n_wins/n\n",
    "print(n_wins)"
   ]
  },
  {
   "cell_type": "code",
   "execution_count": 34,
   "metadata": {},
   "outputs": [
    {
     "data": {
      "text/plain": [
       "(9, 30)"
      ]
     },
     "execution_count": 34,
     "metadata": {},
     "output_type": "execute_result"
    }
   ],
   "source": [
    "acc.shape"
   ]
  },
  {
   "cell_type": "code",
   "execution_count": 33,
   "metadata": {
    "scrolled": true
   },
   "outputs": [
    {
     "data": {
      "image/png": "[encoded data removed]",
      "text/plain": [
       "<Figure size 604.8x201.6 with 2 Axes>"
      ]
     },
     "metadata": {
      "needs_background": "light"
     },
     "output_type": "display_data"
    }
   ],
   "source": [
    "nx,ny = 2,1\n",
    "nfig = nx*ny\n",
    "fig, ax = plt.subplots(ny,nx,figsize=(nx*4.2,ny*2.8))\n",
    "   \n",
    "xvalue = np.arange(m+1)\n",
    "labels = ['KNN','NB','DT','SVM','MLP','LR','XGB','RF','ER']\n",
    "colors = ['pink','orange','red','green','olive','brown','gray','purple','blue']\n",
    "#patterns = [\"|\", \"/\", \"\\\\\", \"-\", \".\", \"*\" ]\n",
    "\n",
    "for i in range(m):\n",
    "    #ax[0].barh(i,acc_av[i],color='white',edgecolor='black',\\\n",
    "    #          width=0.8,hatch=patterns[i],label=labels[i])\n",
    "\n",
    "    ax[0].bar(i,acc_av[i],color=colors[i],edgecolor='black',width=0.7,label=labels[i],alpha=1.,zorder=0)\n",
    "    ax[1].bar(i,n_wins[i],color=colors[i],edgecolor='black',width=0.7,label=labels[i],alpha=1.,zorder=0)\n",
    "    \n",
    "for j in range(2):\n",
    "    ax[j].set_xticks(xvalue)\n",
    "    ax[j].set_xticklabels(labels)\n",
    "    ax[j].yaxis.grid(linestyle='--',linewidth='0.5',zorder=-1)\n",
    "    ax[j].yaxis.set_zorder(level=-1)\n",
    "    \n",
    "ax[0].set_ylabel('accuracy mean')\n",
    "ax[0].set_ylim([0.82,0.92])\n",
    "ax[1].set_ylabel('number of winnings')\n",
    "ax[1].set_ylim([0,20])\n",
    "\n",
    "plt.tight_layout(h_pad=1, w_pad=2.)\n",
    "#plt.show()\n",
    "#plt.savefig('fig1.pdf', format='pdf', dpi=100)"
   ]
  },
  {
   "cell_type": "code",
   "execution_count": null,
   "metadata": {},
   "outputs": [],
   "source": []
  }
 ],
 "metadata": {
  "kernelspec": {
   "display_name": "Python 3",
   "language": "python",
   "name": "python3"
  },
  "language_info": {
   "codemirror_mode": {
    "name": "ipython",
    "version": 3
   },
   "file_extension": ".py",
   "mimetype": "text/x-python",
   "name": "python",
   "nbconvert_exporter": "python",
   "pygments_lexer": "ipython3",
   "version": "3.7.4"
  }
 },
 "nbformat": 4,
 "nbformat_minor": 2
}
