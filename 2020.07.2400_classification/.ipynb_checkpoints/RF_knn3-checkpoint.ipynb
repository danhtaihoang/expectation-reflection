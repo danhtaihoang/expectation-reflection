{
 "cells": [
  {
   "cell_type": "markdown",
   "metadata": {},
   "source": [
    "## Random Forest"
   ]
  },
  {
   "cell_type": "code",
   "execution_count": 1,
   "metadata": {},
   "outputs": [],
   "source": [
    "import numpy as np\n",
    "import pandas as pd\n",
    "\n",
    "from sklearn.model_selection import train_test_split,KFold\n",
    "from sklearn.utils import shuffle\n",
    "from sklearn.metrics import confusion_matrix,accuracy_score,precision_score,\\\n",
    "recall_score,roc_curve,auc\n",
    "\n",
    "#import expectation_reflection as ER\n",
    "#from sklearn.linear_model import LogisticRegression\n",
    "from sklearn.ensemble import RandomForestClassifier\n",
    "#from sklearn.model_selection import RandomizedSearchCV\n",
    "from sklearn.model_selection import GridSearchCV\n",
    "\n",
    "import matplotlib.pyplot as plt\n",
    "import seaborn as sns\n",
    "\n",
    "from sklearn.preprocessing import MinMaxScaler\n",
    "from function import split_train_test,make_data_balance"
   ]
  },
  {
   "cell_type": "code",
   "execution_count": 2,
   "metadata": {},
   "outputs": [],
   "source": [
    "np.random.seed(1)"
   ]
  },
  {
   "cell_type": "markdown",
   "metadata": {},
   "source": [
    "First of all, the processed data are imported."
   ]
  },
  {
   "cell_type": "code",
   "execution_count": 3,
   "metadata": {},
   "outputs": [
    {
     "name": "stdout",
     "output_type": "stream",
     "text": [
      "['1paradox' '2peptide' '3stigma' '4nki' '5mental' '6smoking' '7anemia'\n",
      " '8language' '9coag' '10tazamia' '11hepato' '12heat' '13ef' '14cervix'\n",
      " '15heart' '16liver' '17nwosu' '18school' '19ibs' '21survival'\n",
      " '29parkinson' '30paradox2' '31renal' '33svr' '35pcos' '36probiotic'\n",
      " '101kidney' '102breast_cancer' '103diabetes_niddk'\n",
      " '104diabetic_retinopathy']\n"
     ]
    }
   ],
   "source": [
    "#data_list = ['1paradox']\n",
    "#data_list = ['29parkinson','30paradox2','31renal','32patientcare','33svr','34newt','35pcos']\n",
    "data_list = np.loadtxt('data_list_30sets.txt',dtype='str')\n",
    "\n",
    "print(data_list)"
   ]
  },
  {
   "cell_type": "code",
   "execution_count": 4,
   "metadata": {},
   "outputs": [],
   "source": [
    "def read_data(data_id):    \n",
    "    data_name = data_list[data_id]\n",
    "    print('data_name:',data_name)\n",
    "    #Xy = np.loadtxt('%s/data_processed.dat'%data_name)\n",
    "    Xy = np.loadtxt('../classification_data/%s/data_processed_knn3.dat'%data_name) \n",
    "    X = Xy[:,:-1]\n",
    "    y = Xy[:,-1]\n",
    "\n",
    "    #print(np.unique(y,return_counts=True))\n",
    "\n",
    "    X,y = make_data_balance(X,y)\n",
    "\n",
    "    print(np.unique(y,return_counts=True))\n",
    "\n",
    "    X, y = shuffle(X, y, random_state=1)\n",
    "\n",
    "    X_train,X_test,y_train,y_test = train_test_split(X,y,test_size=0.5,random_state = 1)\n",
    "    \n",
    "    sc = MinMaxScaler()\n",
    "    X_train = sc.fit_transform(X_train)\n",
    "    X_test = sc.transform(X_test)\n",
    "    \n",
    "    return X_train,X_test,y_train,y_test"
   ]
  },
  {
   "cell_type": "code",
   "execution_count": 5,
   "metadata": {},
   "outputs": [],
   "source": [
    "def measure_performance(X_train,X_test,y_train,y_test):\n",
    "    model = RandomForestClassifier()\n",
    "        \n",
    "    # Number of trees in random forest\n",
    "    #n_estimators = [int(x) for x in np.linspace(start = 10, stop = 100, num = 10)]\n",
    "    n_estimators = [10,50,100]\n",
    "\n",
    "    # Number of features to consider at every split\n",
    "    max_features = ['auto']\n",
    "\n",
    "    # Maximum number of levels in tree\n",
    "    #max_depth = [int(x) for x in np.linspace(1, 10, num = 10)]\n",
    "    max_depth = [2,4,6,8,10]\n",
    "    #max_depth.append(None)\n",
    "\n",
    "    # Minimum number of samples required to split a node\n",
    "    min_samples_split = [5, 10, 15, 20]\n",
    "\n",
    "    # Minimum number of samples required at each leaf node\n",
    "    min_samples_leaf = [int(x) for x in np.linspace(start = 1, stop = 5, num = 5)]\n",
    "\n",
    "    # Method of selecting samples for training each tree\n",
    "    #bootstrap = [True, False]\n",
    "    bootstrap = [True]\n",
    "        \n",
    "    # Create the random grid\n",
    "    hyper_parameters = {'n_estimators': n_estimators,\n",
    "                   'max_features': max_features,\n",
    "                   'max_depth': max_depth,\n",
    "                   'min_samples_split': min_samples_split,\n",
    "                   'min_samples_leaf': min_samples_leaf,\n",
    "                   'bootstrap': bootstrap}\n",
    "    \n",
    "    #random_search = RandomizedSearchCV(estimator = model, param_distributions = random_grid, n_iter = 100, \n",
    "    #                           cv = 4, verbose=2, random_state=1, n_jobs = -1)\n",
    "    \n",
    "    # Create grid search using cross validation\n",
    "    clf = GridSearchCV(model, hyper_parameters, cv=4, iid='deprecated')\n",
    "    \n",
    "    # Fit grid search\n",
    "    best_model = clf.fit(X_train, y_train)\n",
    "    \n",
    "    # View best hyperparameters\n",
    "    #print('Best Penalty:', best_model.best_estimator_.get_params()['penalty'])\n",
    "    #print('Best C:', best_model.best_estimator_.get_params()['C'])\n",
    "    \n",
    "    # best hyper parameters\n",
    "    print('best_hyper_parameters:',best_model.best_params_)\n",
    "\n",
    "    # performance:\n",
    "    y_test_pred = best_model.best_estimator_.predict(X_test)\n",
    "    acc = accuracy_score(y_test,y_test_pred)\n",
    "    #print('Accuracy:', acc)\n",
    "\n",
    "    p_test_pred = best_model.best_estimator_.predict_proba(X_test) # prob of [0,1]\n",
    "    p_test_pred = p_test_pred[:,1] # prob of 1    \n",
    "    fp,tp,thresholds = roc_curve(y_test, p_test_pred, drop_intermediate=False)\n",
    "    roc_auc = auc(fp,tp)\n",
    "    #print('AUC:', roc_auc)\n",
    "\n",
    "    precision = precision_score(y_test,y_test_pred)\n",
    "    #print('Precision:',precision)\n",
    "\n",
    "    recall = recall_score(y_test,y_test_pred)\n",
    "    #print('Recall:',recall)\n",
    "    \n",
    "    f1_score = 2*precision*recall/(precision+recall)\n",
    "    \n",
    "    return acc,roc_auc,precision,recall,f1_score"
   ]
  },
  {
   "cell_type": "code",
   "execution_count": 6,
   "metadata": {
    "scrolled": true
   },
   "outputs": [
    {
     "name": "stdout",
     "output_type": "stream",
     "text": [
      "data_name: 1paradox\n",
      "(array([-1.,  1.]), array([60, 60]))\n",
      "best_hyper_parameters: {'bootstrap': True, 'max_depth': 6, 'max_features': 'auto', 'min_samples_leaf': 3, 'min_samples_split': 5, 'n_estimators': 100}\n",
      "0 0.75 0.9083431257344301 0.625 0.8695652173913043 0.7272727272727273\n",
      "data_name: 2peptide\n",
      "(array([-1.,  1.]), array([23, 23]))\n",
      "best_hyper_parameters: {'bootstrap': True, 'max_depth': 2, 'max_features': 'auto', 'min_samples_leaf': 1, 'min_samples_split': 5, 'n_estimators': 50}\n",
      "1 1.0 1.0 1.0 1.0 1.0\n",
      "data_name: 3stigma\n",
      "(array([-1.,  1.]), array([2725, 2725]))\n",
      "best_hyper_parameters: {'bootstrap': True, 'max_depth': 10, 'max_features': 'auto', 'min_samples_leaf': 1, 'min_samples_split': 5, 'n_estimators': 100}\n",
      "2 1.0 1.0 1.0 1.0 1.0\n",
      "data_name: 4nki\n",
      "(array([-1.,  1.]), array([77, 77]))\n",
      "best_hyper_parameters: {'bootstrap': True, 'max_depth': 6, 'max_features': 'auto', 'min_samples_leaf': 2, 'min_samples_split': 5, 'n_estimators': 50}\n",
      "3 0.7792207792207793 0.8543918918918919 0.7272727272727273 0.8648648648648649 0.7901234567901235\n",
      "data_name: 5mental\n",
      "(array([-1.,  1.]), array([147, 147]))\n",
      "best_hyper_parameters: {'bootstrap': True, 'max_depth': 2, 'max_features': 'auto', 'min_samples_leaf': 5, 'min_samples_split': 5, 'n_estimators': 50}\n",
      "4 0.7142857142857143 0.7899814471243043 0.7397260273972602 0.7012987012987013 0.7200000000000001\n",
      "data_name: 6smoking\n",
      "(array([-1.,  1.]), array([722, 722]))\n",
      "best_hyper_parameters: {'bootstrap': True, 'max_depth': 8, 'max_features': 'auto', 'min_samples_leaf': 1, 'min_samples_split': 5, 'n_estimators': 50}\n",
      "5 0.9986149584487535 0.9999999999999999 1.0 0.9972602739726028 0.9986282578875172\n",
      "data_name: 7anemia\n",
      "(array([-1.,  1.]), array([43, 43]))\n",
      "best_hyper_parameters: {'bootstrap': True, 'max_depth': 8, 'max_features': 'auto', 'min_samples_leaf': 1, 'min_samples_split': 20, 'n_estimators': 50}\n",
      "6 0.6511627906976745 0.8008658008658008 0.7333333333333333 0.5 0.5945945945945945\n",
      "data_name: 8language\n",
      "(array([-1.,  1.]), array([267, 267]))\n",
      "best_hyper_parameters: {'bootstrap': True, 'max_depth': 4, 'max_features': 'auto', 'min_samples_leaf': 3, 'min_samples_split': 5, 'n_estimators': 50}\n",
      "7 0.7116104868913857 0.777709152161707 0.7307692307692307 0.6934306569343066 0.7116104868913858\n",
      "data_name: 9coag\n",
      "(array([-1.,  1.]), array([504, 504]))\n",
      "best_hyper_parameters: {'bootstrap': True, 'max_depth': 6, 'max_features': 'auto', 'min_samples_leaf': 3, 'min_samples_split': 20, 'n_estimators': 100}\n",
      "8 0.6349206349206349 0.6819735660612172 0.622568093385214 0.6477732793522267 0.634920634920635\n",
      "data_name: 10tazamia\n",
      "(array([-1.,  1.]), array([124, 124]))\n",
      "best_hyper_parameters: {'bootstrap': True, 'max_depth': 10, 'max_features': 'auto', 'min_samples_leaf': 2, 'min_samples_split': 5, 'n_estimators': 50}\n",
      "9 0.7661290322580645 0.8505182035609886 0.828125 0.7464788732394366 0.7851851851851853\n",
      "data_name: 11hepato\n",
      "(array([-1.,  1.]), array([63, 63]))\n",
      "best_hyper_parameters: {'bootstrap': True, 'max_depth': 6, 'max_features': 'auto', 'min_samples_leaf': 2, 'min_samples_split': 20, 'n_estimators': 10}\n",
      "10 0.5873015873015873 0.6688640973630832 0.5384615384615384 0.7241379310344828 0.6176470588235294\n",
      "data_name: 12heat\n",
      "(array([-1.,  1.]), array([83, 83]))\n",
      "best_hyper_parameters: {'bootstrap': True, 'max_depth': 2, 'max_features': 'auto', 'min_samples_leaf': 4, 'min_samples_split': 20, 'n_estimators': 50}\n",
      "11 0.6385542168674698 0.7093023255813954 0.6857142857142857 0.5581395348837209 0.6153846153846154\n",
      "data_name: 13ef\n",
      "(array([-1.,  1.]), array([93, 93]))\n",
      "best_hyper_parameters: {'bootstrap': True, 'max_depth': 2, 'max_features': 'auto', 'min_samples_leaf': 1, 'min_samples_split': 5, 'n_estimators': 100}\n",
      "12 1.0 1.0 1.0 1.0 1.0\n",
      "data_name: 14cervix\n",
      "(array([-1.,  1.]), array([24, 24]))\n",
      "best_hyper_parameters: {'bootstrap': True, 'max_depth': 4, 'max_features': 'auto', 'min_samples_leaf': 1, 'min_samples_split': 5, 'n_estimators': 50}\n",
      "13 0.9583333333333334 1.0 1.0 0.9166666666666666 0.9565217391304348\n",
      "data_name: 15heart\n",
      "(array([-1.,  1.]), array([138, 138]))\n",
      "best_hyper_parameters: {'bootstrap': True, 'max_depth': 6, 'max_features': 'auto', 'min_samples_leaf': 5, 'min_samples_split': 20, 'n_estimators': 10}\n",
      "14 0.8260869565217391 0.9011994949494949 0.7560975609756098 0.9393939393939394 0.8378378378378378\n",
      "data_name: 16liver\n",
      "(array([-1.,  1.]), array([167, 167]))\n",
      "best_hyper_parameters: {'bootstrap': True, 'max_depth': 10, 'max_features': 'auto', 'min_samples_leaf': 4, 'min_samples_split': 20, 'n_estimators': 10}\n",
      "15 0.7005988023952096 0.7639008931143763 0.7142857142857143 0.7303370786516854 0.7222222222222223\n",
      "data_name: 17nwosu\n",
      "(array([-1.,  1.]), array([59, 59]))\n",
      "best_hyper_parameters: {'bootstrap': True, 'max_depth': 2, 'max_features': 'auto', 'min_samples_leaf': 4, 'min_samples_split': 20, 'n_estimators': 10}\n",
      "16 0.8983050847457628 0.9862068965517242 0.8484848484848485 0.9655172413793104 0.9032258064516129\n",
      "data_name: 18school\n",
      "(array([-1.,  1.]), array([68, 68]))\n",
      "best_hyper_parameters: {'bootstrap': True, 'max_depth': 6, 'max_features': 'auto', 'min_samples_leaf': 1, 'min_samples_split': 15, 'n_estimators': 100}\n",
      "17 0.7941176470588235 0.9132791327913279 0.6666666666666666 0.9629629629629629 0.7878787878787878\n",
      "data_name: 19ibs\n",
      "(array([-1.,  1.]), array([33, 33]))\n",
      "best_hyper_parameters: {'bootstrap': True, 'max_depth': 2, 'max_features': 'auto', 'min_samples_leaf': 1, 'min_samples_split': 5, 'n_estimators': 10}\n",
      "18 0.9090909090909091 1.0 0.8125 1.0 0.896551724137931\n",
      "data_name: 21survival\n",
      "(array([-1.,  1.]), array([123, 123]))\n",
      "best_hyper_parameters: {'bootstrap': True, 'max_depth': 2, 'max_features': 'auto', 'min_samples_leaf': 5, 'min_samples_split': 5, 'n_estimators': 10}\n",
      "19 0.7479674796747967 0.8609201480698044 0.7924528301886793 0.6774193548387096 0.7304347826086955\n",
      "data_name: 29parkinson\n",
      "(array([-1.,  1.]), array([48, 48]))\n",
      "best_hyper_parameters: {'bootstrap': True, 'max_depth': 6, 'max_features': 'auto', 'min_samples_leaf': 1, 'min_samples_split': 5, 'n_estimators': 10}\n",
      "20 0.8125 0.8758928571428571 0.7391304347826086 0.85 0.7906976744186046\n",
      "data_name: 30paradox2\n",
      "(array([-1.,  1.]), array([52, 52]))\n",
      "best_hyper_parameters: {'bootstrap': True, 'max_depth': 10, 'max_features': 'auto', 'min_samples_leaf': 2, 'min_samples_split': 5, 'n_estimators': 50}\n",
      "21 0.9038461538461539 0.9792592592592593 0.8846153846153846 0.92 0.9019607843137256\n",
      "data_name: 31renal\n",
      "(array([-1.,  1.]), array([47, 47]))\n",
      "best_hyper_parameters: {'bootstrap': True, 'max_depth': 10, 'max_features': 'auto', 'min_samples_leaf': 2, 'min_samples_split': 5, 'n_estimators': 100}\n",
      "22 0.851063829787234 0.8831417624521072 0.8928571428571429 0.8620689655172413 0.8771929824561403\n",
      "data_name: 33svr\n",
      "(array([-1.,  1.]), array([41, 41]))\n",
      "best_hyper_parameters: {'bootstrap': True, 'max_depth': 10, 'max_features': 'auto', 'min_samples_leaf': 5, 'min_samples_split': 15, 'n_estimators': 10}\n",
      "23 0.975609756097561 0.9545454545454547 1.0 0.9473684210526315 0.972972972972973\n",
      "data_name: 35pcos\n",
      "(array([-1.,  1.]), array([177, 177]))\n",
      "best_hyper_parameters: {'bootstrap': True, 'max_depth': 4, 'max_features': 'auto', 'min_samples_leaf': 3, 'min_samples_split': 10, 'n_estimators': 100}\n",
      "24 0.864406779661017 0.9370531154239019 0.891566265060241 0.8314606741573034 0.8604651162790697\n",
      "data_name: 36probiotic\n",
      "(array([-1.,  1.]), array([10, 10]))\n",
      "best_hyper_parameters: {'bootstrap': True, 'max_depth': 2, 'max_features': 'auto', 'min_samples_leaf': 2, 'min_samples_split': 5, 'n_estimators': 100}\n",
      "25 1.0 1.0 1.0 1.0 1.0\n",
      "data_name: 101kidney\n",
      "(array([-1.,  1.]), array([149, 149]))\n",
      "best_hyper_parameters: {'bootstrap': True, 'max_depth': 4, 'max_features': 'auto', 'min_samples_leaf': 3, 'min_samples_split': 5, 'n_estimators': 10}\n",
      "26 0.9865771812080537 0.9994594594594595 0.9736842105263158 1.0 0.9866666666666666\n",
      "data_name: 102breast_cancer\n",
      "(array([-1.,  1.]), array([212, 212]))\n",
      "best_hyper_parameters: {'bootstrap': True, 'max_depth': 4, 'max_features': 'auto', 'min_samples_leaf': 3, 'min_samples_split': 5, 'n_estimators': 50}\n",
      "27 0.9528301886792453 0.9925965569529926 0.963302752293578 0.9459459459459459 0.9545454545454546\n",
      "data_name: 103diabetes_niddk\n",
      "(array([-1.,  1.]), array([267, 267]))\n",
      "best_hyper_parameters: {'bootstrap': True, 'max_depth': 2, 'max_features': 'auto', 'min_samples_leaf': 1, 'min_samples_split': 5, 'n_estimators': 10}\n",
      "28 0.7415730337078652 0.7998028169014084 0.7354838709677419 0.8028169014084507 0.7676767676767676\n",
      "data_name: 104diabetic_retinopathy\n",
      "(array([-1.,  1.]), array([536, 536]))\n"
     ]
    },
    {
     "name": "stdout",
     "output_type": "stream",
     "text": [
      "best_hyper_parameters: {'bootstrap': True, 'max_depth': 8, 'max_features': 'auto', 'min_samples_leaf': 1, 'min_samples_split': 15, 'n_estimators': 50}\n",
      "29 0.6324626865671642 0.6903020933439183 0.6398305084745762 0.5741444866920152 0.6052104208416833\n"
     ]
    }
   ],
   "source": [
    "n_data = len(data_list)\n",
    "roc_auc = np.zeros(n_data)   ; acc = np.zeros(n_data)\n",
    "precision = np.zeros(n_data) ; recall = np.zeros(n_data)\n",
    "f1_score = np.zeros(n_data)\n",
    "#data_id = 0\n",
    "for data_id in range(n_data):\n",
    "    X_train,X_test,y_train,y_test = read_data(data_id)\n",
    "    acc[data_id],roc_auc[data_id],precision[data_id],recall[data_id],f1_score[data_id] =\\\n",
    "            measure_performance(X_train,X_test,y_train,y_test)\n",
    "    print(data_id,acc[data_id],roc_auc[data_id],precision[data_id],recall[data_id],f1_score[data_id])"
   ]
  },
  {
   "cell_type": "code",
   "execution_count": 7,
   "metadata": {
    "scrolled": true
   },
   "outputs": [
    {
     "name": "stdout",
     "output_type": "stream",
     "text": [
      "acc_mean: 0.8262390007755644\n",
      "roc_mean: 0.8859836517100969\n",
      "precision: 0.8180642808837567\n",
      "recall: 0.8409683990546171\n",
      "f1_score: 0.8249142919396307\n"
     ]
    }
   ],
   "source": [
    "print('acc_mean:',acc.mean())\n",
    "print('roc_mean:',roc_auc.mean())\n",
    "print('precision:',precision.mean())\n",
    "print('recall:',recall.mean())\n",
    "print('f1_score:',f1_score.mean())"
   ]
  },
  {
   "cell_type": "code",
   "execution_count": 8,
   "metadata": {},
   "outputs": [],
   "source": [
    "np.savetxt('result_knn3_RF.dat',(roc_auc,acc,precision,recall,f1_score),fmt='%f')"
   ]
  },
  {
   "cell_type": "code",
   "execution_count": null,
   "metadata": {},
   "outputs": [],
   "source": []
  }
 ],
 "metadata": {
  "kernelspec": {
   "display_name": "Python 3",
   "language": "python",
   "name": "python3"
  },
  "language_info": {
   "codemirror_mode": {
    "name": "ipython",
    "version": 3
   },
   "file_extension": ".py",
   "mimetype": "text/x-python",
   "name": "python",
   "nbconvert_exporter": "python",
   "pygments_lexer": "ipython3",
   "version": "3.7.4"
  }
 },
 "nbformat": 4,
 "nbformat_minor": 2
}
