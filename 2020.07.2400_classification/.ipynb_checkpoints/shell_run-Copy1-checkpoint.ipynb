{
 "cells": [
  {
   "cell_type": "code",
   "execution_count": 1,
   "metadata": {},
   "outputs": [],
   "source": [
    "import os\n",
    "import numpy as np"
   ]
  },
  {
   "cell_type": "code",
   "execution_count": 2,
   "metadata": {},
   "outputs": [
    {
     "name": "stdout",
     "output_type": "stream",
     "text": [
      "['1paradox' '2peptide']\n"
     ]
    }
   ],
   "source": [
    "data_list = np.loadtxt('data_list.txt',dtype='str')\n",
    "print(data_list)"
   ]
  },
  {
   "cell_type": "code",
   "execution_count": 3,
   "metadata": {},
   "outputs": [
    {
     "name": "stdout",
     "output_type": "stream",
     "text": [
      "folder name: 1paradox\n",
      "folder name: 2peptide\n"
     ]
    }
   ],
   "source": [
    "for folder in data_list:\n",
    "    print('folder name:',folder)\n",
    "    os.system('cp processing.ipynb %s'%folder)\n",
    "    os.system('jupyter nbconvert --to notebook --execute %s/processing.ipynb --output processing.ipynb'%(folder))"
   ]
  },
  {
   "cell_type": "code",
   "execution_count": 4,
   "metadata": {},
   "outputs": [],
   "source": [
    "##!jupyter nbconvert --to notebook --execute paradox/processing.ipynb --output processing.ipynb"
   ]
  },
  {
   "cell_type": "code",
   "execution_count": null,
   "metadata": {},
   "outputs": [],
   "source": []
  }
 ],
 "metadata": {
  "kernelspec": {
   "display_name": "Python 3",
   "language": "python",
   "name": "python3"
  },
  "language_info": {
   "codemirror_mode": {
    "name": "ipython",
    "version": 3
   },
   "file_extension": ".py",
   "mimetype": "text/x-python",
   "name": "python",
   "nbconvert_exporter": "python",
   "pygments_lexer": "ipython3",
   "version": "3.7.4"
  }
 },
 "nbformat": 4,
 "nbformat_minor": 2
}
