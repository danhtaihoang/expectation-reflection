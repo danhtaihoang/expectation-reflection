{
 "cells": [
  {
   "cell_type": "code",
   "execution_count": 1,
   "metadata": {},
   "outputs": [],
   "source": [
    "import os\n",
    "import numpy as np"
   ]
  },
  {
   "cell_type": "code",
   "execution_count": 2,
   "metadata": {},
   "outputs": [
    {
     "name": "stdout",
     "output_type": "stream",
     "text": [
      "['1paradox' '2peptide' '3stigma' '4nki' '5mental' '6smoking' '7anemia'\n",
      " '8language' '9coag' '10tazamia' '11hepato' '12heat' '13ef' '14cervix'\n",
      " '15heart' '16liver' '17nwosu' '18school' '19ibs' '21survival' '101kidney'\n",
      " '102breast_cancer' '103diabetes_niddk' '104diabetic_retinopathy'\n",
      " '29parkinson' '30paradox2' '31renal' '33svr' '35pcos' '36probiotic']\n"
     ]
    }
   ],
   "source": [
    "data_list = np.loadtxt('data_list_30sets.txt',dtype='str')\n",
    "print(data_list)"
   ]
  },
  {
   "cell_type": "code",
   "execution_count": 3,
   "metadata": {},
   "outputs": [
    {
     "name": "stdout",
     "output_type": "stream",
     "text": [
      "folder name: 1paradox\n",
      "folder name: 2peptide\n",
      "folder name: 3stigma\n",
      "folder name: 4nki\n",
      "folder name: 5mental\n",
      "folder name: 6smoking\n",
      "folder name: 7anemia\n",
      "folder name: 8language\n",
      "folder name: 9coag\n",
      "folder name: 10tazamia\n",
      "folder name: 11hepato\n",
      "folder name: 12heat\n",
      "folder name: 13ef\n",
      "folder name: 14cervix\n",
      "folder name: 15heart\n",
      "folder name: 16liver\n",
      "folder name: 17nwosu\n",
      "folder name: 18school\n",
      "folder name: 19ibs\n",
      "folder name: 21survival\n",
      "folder name: 101kidney\n",
      "folder name: 102breast_cancer\n",
      "folder name: 103diabetes_niddk\n",
      "folder name: 104diabetic_retinopathy\n",
      "folder name: 29parkinson\n",
      "folder name: 30paradox2\n",
      "folder name: 31renal\n",
      "folder name: 33svr\n",
      "folder name: 35pcos\n",
      "folder name: 36probiotic\n"
     ]
    }
   ],
   "source": [
    "for folder in data_list:\n",
    "    print('folder name:',folder)\n",
    "    os.system('cp processing.ipynb %s'%folder)\n",
    "    os.system('rm %s/*.dat'%folder)\n",
    "    os.system('jupyter nbconvert --to notebook --execute %s/processing.ipynb --output processing.ipynb'%(folder))"
   ]
  },
  {
   "cell_type": "code",
   "execution_count": null,
   "metadata": {},
   "outputs": [],
   "source": []
  }
 ],
 "metadata": {
  "kernelspec": {
   "display_name": "Python 3",
   "language": "python",
   "name": "python3"
  },
  "language_info": {
   "codemirror_mode": {
    "name": "ipython",
    "version": 3
   },
   "file_extension": ".py",
   "mimetype": "text/x-python",
   "name": "python",
   "nbconvert_exporter": "python",
   "pygments_lexer": "ipython3",
   "version": "3.7.4"
  }
 },
 "nbformat": 4,
 "nbformat_minor": 2
}
