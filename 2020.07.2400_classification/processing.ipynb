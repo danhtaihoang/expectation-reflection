{
 "cells": [
  {
   "cell_type": "markdown",
   "metadata": {},
   "source": [
    "### Impute missing values and convert binary to +-1, category to one-hot"
   ]
  },
  {
   "cell_type": "code",
   "execution_count": 1,
   "metadata": {},
   "outputs": [],
   "source": [
    "import numpy as np\n",
    "import pandas as pd\n",
    "from sklearn.preprocessing import OneHotEncoder"
   ]
  },
  {
   "cell_type": "code",
   "execution_count": 2,
   "metadata": {},
   "outputs": [],
   "source": [
    "np.random.seed(1)"
   ]
  },
  {
   "cell_type": "code",
   "execution_count": 3,
   "metadata": {
    "scrolled": false
   },
   "outputs": [
    {
     "data": {
      "text/html": [
       "<div>\n",
       "<style scoped>\n",
       "    .dataframe tbody tr th:only-of-type {\n",
       "        vertical-align: middle;\n",
       "    }\n",
       "\n",
       "    .dataframe tbody tr th {\n",
       "        vertical-align: top;\n",
       "    }\n",
       "\n",
       "    .dataframe thead th {\n",
       "        text-align: right;\n",
       "    }\n",
       "</style>\n",
       "<table border=\"1\" class=\"dataframe\">\n",
       "  <thead>\n",
       "    <tr style=\"text-align: right;\">\n",
       "      <th></th>\n",
       "      <th>site</th>\n",
       "      <th>gender</th>\n",
       "      <th>age</th>\n",
       "      <th>race_ethnicity</th>\n",
       "      <th>maritalstatus</th>\n",
       "      <th>education</th>\n",
       "      <th>lowhealthliteracy</th>\n",
       "      <th>employment status</th>\n",
       "      <th>healthinsurance</th>\n",
       "      <th>strength_comfort_religion</th>\n",
       "      <th>...</th>\n",
       "      <th>antidepressant_hosp</th>\n",
       "      <th>antidiabetic_hosp</th>\n",
       "      <th>betablocker</th>\n",
       "      <th>P2Y12</th>\n",
       "      <th>atrialfib_complication</th>\n",
       "      <th>vtachvfib_complication</th>\n",
       "      <th>Acute_Kidney_Injury_complication</th>\n",
       "      <th>bleeding_complication</th>\n",
       "      <th>cardiac_rehab</th>\n",
       "      <th>died_2_year</th>\n",
       "    </tr>\n",
       "  </thead>\n",
       "  <tbody>\n",
       "    <tr>\n",
       "      <th>0</th>\n",
       "      <td>Massachusetts</td>\n",
       "      <td>Male</td>\n",
       "      <td>60</td>\n",
       "      <td>NHW</td>\n",
       "      <td>Married</td>\n",
       "      <td>CollegeGraduate</td>\n",
       "      <td>No</td>\n",
       "      <td>Employed</td>\n",
       "      <td>No</td>\n",
       "      <td>None</td>\n",
       "      <td>...</td>\n",
       "      <td>No</td>\n",
       "      <td>No</td>\n",
       "      <td>Yes</td>\n",
       "      <td>Yes</td>\n",
       "      <td>No</td>\n",
       "      <td>No</td>\n",
       "      <td>No</td>\n",
       "      <td>No</td>\n",
       "      <td>Yes</td>\n",
       "      <td>No</td>\n",
       "    </tr>\n",
       "    <tr>\n",
       "      <th>1</th>\n",
       "      <td>Massachusetts</td>\n",
       "      <td>Male</td>\n",
       "      <td>61</td>\n",
       "      <td>NHW</td>\n",
       "      <td>Married</td>\n",
       "      <td>Somecollege</td>\n",
       "      <td>Yes</td>\n",
       "      <td>Unemployed/retired</td>\n",
       "      <td>No</td>\n",
       "      <td>Little/Some</td>\n",
       "      <td>...</td>\n",
       "      <td>No</td>\n",
       "      <td>Yes</td>\n",
       "      <td>Yes</td>\n",
       "      <td>Yes</td>\n",
       "      <td>No</td>\n",
       "      <td>No</td>\n",
       "      <td>No</td>\n",
       "      <td>No</td>\n",
       "      <td>Yes</td>\n",
       "      <td>No</td>\n",
       "    </tr>\n",
       "    <tr>\n",
       "      <th>2</th>\n",
       "      <td>Massachusetts</td>\n",
       "      <td>Male</td>\n",
       "      <td>56</td>\n",
       "      <td>NHW</td>\n",
       "      <td>NotMarried</td>\n",
       "      <td>HighSchoolorless</td>\n",
       "      <td>Yes</td>\n",
       "      <td>Unemployed/retired</td>\n",
       "      <td>Yes</td>\n",
       "      <td>Greatdeal</td>\n",
       "      <td>...</td>\n",
       "      <td>No</td>\n",
       "      <td>No</td>\n",
       "      <td>Yes</td>\n",
       "      <td>Yes</td>\n",
       "      <td>No</td>\n",
       "      <td>No</td>\n",
       "      <td>No</td>\n",
       "      <td>No</td>\n",
       "      <td>No</td>\n",
       "      <td>No</td>\n",
       "    </tr>\n",
       "    <tr>\n",
       "      <th>3</th>\n",
       "      <td>Massachusetts</td>\n",
       "      <td>Male</td>\n",
       "      <td>48</td>\n",
       "      <td>NHW</td>\n",
       "      <td>NotMarried</td>\n",
       "      <td>HighSchoolorless</td>\n",
       "      <td>No</td>\n",
       "      <td>Employed</td>\n",
       "      <td>No</td>\n",
       "      <td>Little/Some</td>\n",
       "      <td>...</td>\n",
       "      <td>Yes</td>\n",
       "      <td>No</td>\n",
       "      <td>Yes</td>\n",
       "      <td>No</td>\n",
       "      <td>No</td>\n",
       "      <td>No</td>\n",
       "      <td>No</td>\n",
       "      <td>No</td>\n",
       "      <td>No</td>\n",
       "      <td>No</td>\n",
       "    </tr>\n",
       "    <tr>\n",
       "      <th>4</th>\n",
       "      <td>Massachusetts</td>\n",
       "      <td>Male</td>\n",
       "      <td>49</td>\n",
       "      <td>NHW</td>\n",
       "      <td>NotMarried</td>\n",
       "      <td>HighSchoolorless</td>\n",
       "      <td>No</td>\n",
       "      <td>Unemployed/retired</td>\n",
       "      <td>No</td>\n",
       "      <td>Little/Some</td>\n",
       "      <td>...</td>\n",
       "      <td>Yes</td>\n",
       "      <td>No</td>\n",
       "      <td>Yes</td>\n",
       "      <td>Yes</td>\n",
       "      <td>Yes</td>\n",
       "      <td>No</td>\n",
       "      <td>No</td>\n",
       "      <td>No</td>\n",
       "      <td>Yes</td>\n",
       "      <td>No</td>\n",
       "    </tr>\n",
       "  </tbody>\n",
       "</table>\n",
       "<p>5 rows × 60 columns</p>\n",
       "</div>"
      ],
      "text/plain": [
       "            site gender  age race_ethnicity maritalstatus         education  \\\n",
       "0  Massachusetts   Male   60            NHW       Married   CollegeGraduate   \n",
       "1  Massachusetts   Male   61            NHW       Married       Somecollege   \n",
       "2  Massachusetts   Male   56            NHW    NotMarried  HighSchoolorless   \n",
       "3  Massachusetts   Male   48            NHW    NotMarried  HighSchoolorless   \n",
       "4  Massachusetts   Male   49            NHW    NotMarried  HighSchoolorless   \n",
       "\n",
       "  lowhealthliteracy  employment status  healthinsurance  \\\n",
       "0                No            Employed              No   \n",
       "1               Yes  Unemployed/retired              No   \n",
       "2               Yes  Unemployed/retired             Yes   \n",
       "3                No            Employed              No   \n",
       "4                No  Unemployed/retired              No   \n",
       "\n",
       "  strength_comfort_religion  ... antidepressant_hosp antidiabetic_hosp  \\\n",
       "0                      None  ...                  No                No   \n",
       "1               Little/Some  ...                  No               Yes   \n",
       "2                 Greatdeal  ...                  No                No   \n",
       "3               Little/Some  ...                 Yes                No   \n",
       "4               Little/Some  ...                 Yes                No   \n",
       "\n",
       "   betablocker P2Y12 atrialfib_complication vtachvfib_complication  \\\n",
       "0          Yes   Yes                     No                     No   \n",
       "1          Yes   Yes                     No                     No   \n",
       "2          Yes   Yes                     No                     No   \n",
       "3          Yes    No                     No                     No   \n",
       "4          Yes   Yes                    Yes                     No   \n",
       "\n",
       "  Acute_Kidney_Injury_complication bleeding_complication  cardiac_rehab  \\\n",
       "0                               No                    No            Yes   \n",
       "1                               No                    No            Yes   \n",
       "2                               No                    No             No   \n",
       "3                               No                    No             No   \n",
       "4                               No                    No            Yes   \n",
       "\n",
       "   died_2_year  \n",
       "0           No  \n",
       "1           No  \n",
       "2           No  \n",
       "3           No  \n",
       "4           No  \n",
       "\n",
       "[5 rows x 60 columns]"
      ]
     },
     "execution_count": 3,
     "metadata": {},
     "output_type": "execute_result"
    }
   ],
   "source": [
    "df = pd.read_csv(\"data_cleaned.csv\")\n",
    "df.head()"
   ]
  },
  {
   "cell_type": "code",
   "execution_count": 4,
   "metadata": {
    "scrolled": true
   },
   "outputs": [
    {
     "name": "stdout",
     "output_type": "stream",
     "text": [
      "<class 'pandas.core.frame.DataFrame'>\n",
      "RangeIndex: 2068 entries, 0 to 2067\n",
      "Data columns (total 60 columns):\n",
      " #   Column                            Non-Null Count  Dtype  \n",
      "---  ------                            --------------  -----  \n",
      " 0   site                              2068 non-null   object \n",
      " 1   gender                            2053 non-null   object \n",
      " 2   age                               2068 non-null   int64  \n",
      " 3   race_ethnicity                    2059 non-null   object \n",
      " 4   maritalstatus                     2068 non-null   object \n",
      " 5   education                         2067 non-null   object \n",
      " 6   lowhealthliteracy                 2068 non-null   object \n",
      " 7   employment status                 2068 non-null   object \n",
      " 8   healthinsurance                   2068 non-null   object \n",
      " 9   strength_comfort_religion         2068 non-null   object \n",
      " 10  petition_prayer_health            2068 non-null   object \n",
      " 11  intercessory_prayers_health       2068 non-null   object \n",
      " 12  survival_time                     2068 non-null   int64  \n",
      " 13  depression                        2025 non-null   object \n",
      " 14  anxiety                           2040 non-null   object \n",
      " 15  stress                            2032 non-null   object \n",
      " 16  lowsocialsupport                  2049 non-null   object \n",
      " 17  cognition                         2068 non-null   object \n",
      " 18  patientactivationscore            2067 non-null   float64\n",
      " 19  SF-36_PCS                         2068 non-null   float64\n",
      " 20  SF-36_MCS                         2068 non-null   float64\n",
      " 21  SAQL                              2066 non-null   float64\n",
      " 22  alcoholuse                        2065 non-null   object \n",
      " 23  smokingstatus                     2068 non-null   object \n",
      " 24  diet8_score_0                     2068 non-null   float64\n",
      " 25  Total_physicalactivity_min_wk     2068 non-null   int64  \n",
      " 26  heartrate                         2054 non-null   float64\n",
      " 27  diastolicbp                       2052 non-null   float64\n",
      " 28  systolicbp                        2056 non-null   float64\n",
      " 29  serumglucose                      1987 non-null   float64\n",
      " 30  serumpotassium                    2018 non-null   float64\n",
      " 31  serumcreatinine                   2020 non-null   float64\n",
      " 32  WBC                               2017 non-null   float64\n",
      " 33  grace_risk                        2029 non-null   float64\n",
      " 34  hypertension                      2068 non-null   object \n",
      " 35  stroke                            2068 non-null   object \n",
      " 36  congestive_heart_failure          2068 non-null   object \n",
      " 37  chronic_kidney_disease            2068 non-null   object \n",
      " 38  diabetes_type2                    2068 non-null   object \n",
      " 39  anemia                            2068 non-null   object \n",
      " 40  arthritis                         2068 non-null   object \n",
      " 41  cancer                            2068 non-null   object \n",
      " 42  chronic_lung_disease              2068 non-null   object \n",
      " 43  acsclass                          2068 non-null   object \n",
      " 44  reperfusiontherapy                2068 non-null   object \n",
      " 45  ACE_ARB                           2068 non-null   object \n",
      " 46  anticoagulants                    2068 non-null   object \n",
      " 47  aspirin                           2068 non-null   object \n",
      " 48  nsaid_hosp                        2068 non-null   object \n",
      " 49  lipidlowering_hosp                2068 non-null   object \n",
      " 50  antidepressant_hosp               2068 non-null   object \n",
      " 51  antidiabetic_hosp                 2068 non-null   object \n",
      " 52  betablocker                       2068 non-null   object \n",
      " 53  P2Y12                             2068 non-null   object \n",
      " 54  atrialfib_complication            2068 non-null   object \n",
      " 55  vtachvfib_complication            2068 non-null   object \n",
      " 56  Acute_Kidney_Injury_complication  2068 non-null   object \n",
      " 57  bleeding_complication             2068 non-null   object \n",
      " 58  cardiac_rehab                     2022 non-null   object \n",
      " 59  died_2_year                       2068 non-null   object \n",
      "dtypes: float64(13), int64(3), object(44)\n",
      "memory usage: 969.5+ KB\n"
     ]
    }
   ],
   "source": [
    "df.info()"
   ]
  },
  {
   "cell_type": "markdown",
   "metadata": {},
   "source": [
    "### Find variable type"
   ]
  },
  {
   "cell_type": "code",
   "execution_count": 5,
   "metadata": {},
   "outputs": [
    {
     "name": "stdout",
     "output_type": "stream",
     "text": [
      "died_2_year\n"
     ]
    }
   ],
   "source": [
    "## separte features and target:\n",
    "target = df.columns[-1]\n",
    "print(target)\n",
    "\n",
    "dfx = df.drop(target,axis=1)\n",
    "dfy = df[target]"
   ]
  },
  {
   "cell_type": "code",
   "execution_count": 6,
   "metadata": {
    "scrolled": false
   },
   "outputs": [
    {
     "name": "stdout",
     "output_type": "stream",
     "text": [
      "number of uniques of each variable:\n",
      "[   2    2   65    3    2    3    2    2    2    3    2    2  726    5\n",
      "    4    2    2    2   16 2065 2065   17    3    3   26  255  116  106\n",
      "  155  308   42  246  186 1303    2    2    2    2    2    2    2    2\n",
      "    2    3    3    2    2    2    2    2    2    2    2    2    2    2\n",
      "    2    2    2]\n"
     ]
    }
   ],
   "source": [
    "# number of uniques of each column (excluding NaN)\n",
    "nu = np.array([len(pd.unique(dfx[col].dropna())) for col in dfx.columns])\n",
    "print('number of uniques of each variable:')\n",
    "print(nu)"
   ]
  },
  {
   "cell_type": "code",
   "execution_count": 7,
   "metadata": {
    "scrolled": true
   },
   "outputs": [],
   "source": [
    "def define_variable_type(df,nu):\n",
    "    i_binary = [] ; i_category = [] ; i_continuous = []\n",
    "    for i in range(len(nu)):\n",
    "        if nu[i] == 2: # binary \n",
    "            i_binary.append(i)\n",
    "        elif nu[i] < 7: # !!!! NOTE: this is not always correct, depending on data\n",
    "            i_category.append(i)\n",
    "        else:\n",
    "            i_continuous.append(i)\n",
    "\n",
    "    print('i_binary:',i_binary)\n",
    "    print('i_category:',i_category)   \n",
    "    #i_binary, i_category, i_continuous\n",
    "    \n",
    "    variable_type  = np.ones(len(nu))  # binary\n",
    "    variable_type[i_category] = 2   # categorical\n",
    "    variable_type[i_continuous] = 3 # continuous\n",
    "\n",
    "    return variable_type #,i_binary,i_category,i_continuous"
   ]
  },
  {
   "cell_type": "code",
   "execution_count": 8,
   "metadata": {
    "scrolled": true
   },
   "outputs": [
    {
     "name": "stdout",
     "output_type": "stream",
     "text": [
      "i_binary: [0, 1, 4, 6, 7, 8, 10, 11, 15, 16, 17, 34, 35, 36, 37, 38, 39, 40, 41, 42, 45, 46, 47, 48, 49, 50, 51, 52, 53, 54, 55, 56, 57, 58]\n",
      "i_category: [3, 5, 9, 13, 14, 22, 23, 43, 44]\n",
      "variable type: [1. 1. 3. 2. 1. 2. 1. 1. 1. 2. 1. 1. 3. 2. 2. 1. 1. 1. 3. 3. 3. 3. 2. 2.\n",
      " 3. 3. 3. 3. 3. 3. 3. 3. 3. 3. 1. 1. 1. 1. 1. 1. 1. 1. 1. 2. 2. 1. 1. 1.\n",
      " 1. 1. 1. 1. 1. 1. 1. 1. 1. 1. 1.]\n"
     ]
    }
   ],
   "source": [
    "variable_type = define_variable_type(dfx,nu)\n",
    "print('variable type:',variable_type)"
   ]
  },
  {
   "cell_type": "markdown",
   "metadata": {},
   "source": [
    "### Replace missing values with column mean and column mode"
   ]
  },
  {
   "cell_type": "code",
   "execution_count": 9,
   "metadata": {},
   "outputs": [],
   "source": [
    "def impute_missing_mean(df,variable_type):\n",
    "    # impute binary and categorical variables by the most frequency (in each column)\n",
    "    # continuous variable by median\n",
    "    # input: df: pandas data frame, variable_type: list\n",
    "    # output: df2: pandas data frame\n",
    "    df2 = df.copy()\n",
    "    for i,col in enumerate(df.columns):\n",
    "        if variable_type[i] < 3: # binary or caterogy\n",
    "            df2[col] = df[col].fillna(df[col].mode().iloc[0])\n",
    "        else: # continuous\n",
    "            # 2020.07.14: convert str to float\n",
    "            if type(np.array(df[col])[0]) == str:\n",
    "                df[col] = pd.to_numeric(df[col],errors='coerce')\n",
    "            \n",
    "            #df2[col] = df[col].fillna(df[col].median())\n",
    "            df2[col] = df[col].fillna(df[col].mean())\n",
    "    return df2 "
   ]
  },
  {
   "cell_type": "code",
   "execution_count": 10,
   "metadata": {
    "scrolled": false
   },
   "outputs": [
    {
     "name": "stdout",
     "output_type": "stream",
     "text": [
      "<class 'pandas.core.frame.DataFrame'>\n",
      "RangeIndex: 2068 entries, 0 to 2067\n",
      "Data columns (total 59 columns):\n",
      " #   Column                            Non-Null Count  Dtype  \n",
      "---  ------                            --------------  -----  \n",
      " 0   site                              2068 non-null   object \n",
      " 1   gender                            2068 non-null   object \n",
      " 2   age                               2068 non-null   int64  \n",
      " 3   race_ethnicity                    2068 non-null   object \n",
      " 4   maritalstatus                     2068 non-null   object \n",
      " 5   education                         2068 non-null   object \n",
      " 6   lowhealthliteracy                 2068 non-null   object \n",
      " 7   employment status                 2068 non-null   object \n",
      " 8   healthinsurance                   2068 non-null   object \n",
      " 9   strength_comfort_religion         2068 non-null   object \n",
      " 10  petition_prayer_health            2068 non-null   object \n",
      " 11  intercessory_prayers_health       2068 non-null   object \n",
      " 12  survival_time                     2068 non-null   int64  \n",
      " 13  depression                        2068 non-null   object \n",
      " 14  anxiety                           2068 non-null   object \n",
      " 15  stress                            2068 non-null   object \n",
      " 16  lowsocialsupport                  2068 non-null   object \n",
      " 17  cognition                         2068 non-null   object \n",
      " 18  patientactivationscore            2068 non-null   float64\n",
      " 19  SF-36_PCS                         2068 non-null   float64\n",
      " 20  SF-36_MCS                         2068 non-null   float64\n",
      " 21  SAQL                              2068 non-null   float64\n",
      " 22  alcoholuse                        2068 non-null   object \n",
      " 23  smokingstatus                     2068 non-null   object \n",
      " 24  diet8_score_0                     2068 non-null   float64\n",
      " 25  Total_physicalactivity_min_wk     2068 non-null   int64  \n",
      " 26  heartrate                         2068 non-null   float64\n",
      " 27  diastolicbp                       2068 non-null   float64\n",
      " 28  systolicbp                        2068 non-null   float64\n",
      " 29  serumglucose                      2068 non-null   float64\n",
      " 30  serumpotassium                    2068 non-null   float64\n",
      " 31  serumcreatinine                   2068 non-null   float64\n",
      " 32  WBC                               2068 non-null   float64\n",
      " 33  grace_risk                        2068 non-null   float64\n",
      " 34  hypertension                      2068 non-null   object \n",
      " 35  stroke                            2068 non-null   object \n",
      " 36  congestive_heart_failure          2068 non-null   object \n",
      " 37  chronic_kidney_disease            2068 non-null   object \n",
      " 38  diabetes_type2                    2068 non-null   object \n",
      " 39  anemia                            2068 non-null   object \n",
      " 40  arthritis                         2068 non-null   object \n",
      " 41  cancer                            2068 non-null   object \n",
      " 42  chronic_lung_disease              2068 non-null   object \n",
      " 43  acsclass                          2068 non-null   object \n",
      " 44  reperfusiontherapy                2068 non-null   object \n",
      " 45  ACE_ARB                           2068 non-null   object \n",
      " 46  anticoagulants                    2068 non-null   object \n",
      " 47  aspirin                           2068 non-null   object \n",
      " 48  nsaid_hosp                        2068 non-null   object \n",
      " 49  lipidlowering_hosp                2068 non-null   object \n",
      " 50  antidepressant_hosp               2068 non-null   object \n",
      " 51  antidiabetic_hosp                 2068 non-null   object \n",
      " 52  betablocker                       2068 non-null   object \n",
      " 53  P2Y12                             2068 non-null   object \n",
      " 54  atrialfib_complication            2068 non-null   object \n",
      " 55  vtachvfib_complication            2068 non-null   object \n",
      " 56  Acute_Kidney_Injury_complication  2068 non-null   object \n",
      " 57  bleeding_complication             2068 non-null   object \n",
      " 58  cardiac_rehab                     2068 non-null   object \n",
      "dtypes: float64(13), int64(3), object(43)\n",
      "memory usage: 953.3+ KB\n"
     ]
    }
   ],
   "source": [
    "dfx_imputed = impute_missing_mean(dfx,variable_type)\n",
    "dfx_imputed.info()"
   ]
  },
  {
   "cell_type": "markdown",
   "metadata": {},
   "source": [
    "## Data Processing"
   ]
  },
  {
   "cell_type": "markdown",
   "metadata": {},
   "source": [
    "### Attributes"
   ]
  },
  {
   "cell_type": "code",
   "execution_count": 11,
   "metadata": {},
   "outputs": [],
   "source": [
    "def convert_binary_and_category(x,variable_type):\n",
    "    \"\"\"\n",
    "    convert binary to +-1, category to one hot; remain continuous.\n",
    "    \"\"\"    \n",
    "    onehot_encoder = OneHotEncoder(sparse=False,categories='auto')\n",
    "\n",
    "    # create 2 initial columns\n",
    "    x_new = np.zeros((x.shape[0],2))\n",
    "\n",
    "    for i,i_type in enumerate(variable_type):\n",
    "        if i_type == 1: # binary\n",
    "            unique_value = np.unique(x[:,i])\n",
    "            x1 = np.array([-1. if value == unique_value[0] else 1. for value in x[:,i]])        \n",
    "            x_new = np.hstack((x_new,x1[:,np.newaxis]))\n",
    "\n",
    "        elif i_type == 2: # category\n",
    "            x1 = onehot_encoder.fit_transform(x[:,i].reshape(-1,1))\n",
    "            x_new = np.hstack((x_new,x1))\n",
    "            \n",
    "        else: # continuous      \n",
    "            x_new = np.hstack((x_new,x[:,i][:,np.newaxis]))      \n",
    "\n",
    "    # drop the 2 initial column\n",
    "    x_new = x_new[:,2:]\n",
    "    \n",
    "    return x_new.astype(float)"
   ]
  },
  {
   "cell_type": "code",
   "execution_count": 12,
   "metadata": {
    "scrolled": true
   },
   "outputs": [
    {
     "name": "stdout",
     "output_type": "stream",
     "text": [
      "(2068, 80)\n",
      "[[ 1.  1. 60. ... -1. -1.  1.]\n",
      " [ 1.  1. 61. ... -1. -1.  1.]\n",
      " [ 1.  1. 56. ... -1. -1. -1.]\n",
      " ...\n",
      " [ 1.  1. 73. ... -1. -1.  1.]\n",
      " [ 1. -1. 58. ... -1. -1.  1.]\n",
      " [ 1.  1. 72. ... -1. -1.  1.]]\n"
     ]
    }
   ],
   "source": [
    "# convert x\n",
    "x = np.array(dfx_imputed)\n",
    "x_new = convert_binary_and_category(x,variable_type)\n",
    "\n",
    "print(x_new.shape)\n",
    "print(x_new)"
   ]
  },
  {
   "cell_type": "markdown",
   "metadata": {},
   "source": [
    "### Target"
   ]
  },
  {
   "cell_type": "code",
   "execution_count": 13,
   "metadata": {},
   "outputs": [
    {
     "name": "stdout",
     "output_type": "stream",
     "text": [
      "(array(['No', 'Yes'], dtype=object), array([1945,  123]))\n",
      "(array([-1.,  1.]), array([1945,  123]))\n"
     ]
    }
   ],
   "source": [
    "y = np.array(dfy)\n",
    "print(np.unique(y,return_counts=True))\n",
    "\n",
    "# convert taget to 0 and 1\n",
    "#y_new = y\n",
    "#y_new = np.ones(y.shape[0])\n",
    "#y_new[y =='No'] = 0\n",
    "\n",
    "unique_value = np.unique(y)\n",
    "y_new = np.array([-1. if value == unique_value[0] else 1. for value in y])  \n",
    "print(np.unique(y_new,return_counts=True))"
   ]
  },
  {
   "cell_type": "code",
   "execution_count": 14,
   "metadata": {},
   "outputs": [],
   "source": [
    "# combine X and y and save to a file\n",
    "xy_new = np.hstack((x_new,y_new[:,np.newaxis]))\n",
    "np.savetxt('data_processed_mean.dat',xy_new,fmt='%f')"
   ]
  },
  {
   "cell_type": "markdown",
   "metadata": {},
   "source": [
    "## Impute missing values by k-NN"
   ]
  },
  {
   "cell_type": "code",
   "execution_count": 15,
   "metadata": {},
   "outputs": [],
   "source": [
    "from sklearn.preprocessing import LabelEncoder\n",
    "from scipy.spatial.distance import cdist\n",
    "from scipy.stats import mode"
   ]
  },
  {
   "cell_type": "code",
   "execution_count": 16,
   "metadata": {},
   "outputs": [],
   "source": [
    "def binary_category_to_integers(df,variable_type):\n",
    "    # convert binary and categorical variables to integers\n",
    "    # input: df: pandas data frame, variable_type: list\n",
    "    # output: df2: pandas data frame\n",
    "    LE = LabelEncoder()\n",
    "    df2 = df.copy()\n",
    "    for i,col in enumerate(df.columns):\n",
    "        if variable_type[i] < 3: # binary or category\n",
    "            df2[col] = LE.fit_transform(df[col])   \n",
    "    return df2"
   ]
  },
  {
   "cell_type": "code",
   "execution_count": 17,
   "metadata": {},
   "outputs": [],
   "source": [
    "def impute_missing_knn(x,variable_type,i_missed,j_missed,k_nn):\n",
    "    # impute missing values by using k-NN\n",
    "    # x: 2D numpy array\n",
    "    # variable_type: 1D list,\n",
    "    # = 1 for binary, 2 for category, 3 for numeric\n",
    "\n",
    "    i_numeric = np.argwhere(variable_type > 2).flatten()\n",
    "    i_nonnumeric = np.argwhere(variable_type <= 2).flatten()\n",
    "\n",
    "    # distance between numeric features\n",
    "    x1 = x[:,i_numeric]\n",
    "    \n",
    "    # standard scaler\n",
    "    x1 = (x1 - x1.mean(axis=0))/x1.std(axis=0)\n",
    "\n",
    "    d1 = cdist(x1,x1,metric='euclidean')\n",
    "\n",
    "    # distance between binary/category features\n",
    "    x2 = x[:, i_nonnumeric]\n",
    "    d2 = cdist(x2,x2,metric='hamming')\n",
    "\n",
    "    # total distance, d1 is non-normalized while d2 is normalized\n",
    "    d = d1 + len(i_nonnumeric)*d2 \n",
    "\n",
    "    np.fill_diagonal(d,np.nan)\n",
    "    i_nn = np.argsort(d,axis=1)[:,:k_nn]\n",
    "\n",
    "    # impute missing values with k-NN\n",
    "    x_imputed = x.copy()\n",
    "    for ii in range(len(i_missed)):\n",
    "        i,j = i_missed[ii],j_missed[ii]\n",
    "        #print(i,j)\n",
    "\n",
    "        #print('i=',i,', j=',j , ', xij=', x[i,j])\n",
    "        #print('i_nn=',i_nn[i,0:k_nn],'x_inn=',x[i_nn[i,0:k_nn],j])\n",
    "\n",
    "        if j in i_numeric:\n",
    "            x_imputed[i,j] = x[i_nn[i,0:k_nn],j].mean()\n",
    "           \n",
    "        else: # category\n",
    "            value_count = mode(x[i_nn[i,0:k_nn],j])\n",
    "\n",
    "            if value_count[1][0] > 1: # count > 1\n",
    "                x_imputed[i,j] = value_count[0][0] # most frequent\n",
    "                \n",
    "            else:\n",
    "                x_imputed[i,j] = x[i_nn[i,0],j] # closest row\n",
    "               \n",
    "    return x_imputed"
   ]
  },
  {
   "cell_type": "code",
   "execution_count": 18,
   "metadata": {},
   "outputs": [],
   "source": [
    "dfx2_imputed = binary_category_to_integers(dfx_imputed,variable_type)\n",
    "\n",
    "# position of missing values\n",
    "i_missed,j_missed = np.where(dfx.isna())"
   ]
  },
  {
   "cell_type": "code",
   "execution_count": 19,
   "metadata": {},
   "outputs": [
    {
     "name": "stdout",
     "output_type": "stream",
     "text": [
      "ik,knn: 0 2\n",
      "ik,knn: 1 3\n",
      "ik,knn: 2 4\n",
      "ik,knn: 3 5\n",
      "ik,knn: 4 6\n",
      "ik,knn: 5 7\n",
      "ik,knn: 6 8\n",
      "ik,knn: 7 9\n",
      "ik,knn: 8 10\n",
      "ik,knn: 9 45\n"
     ]
    }
   ],
   "source": [
    "k_nn_list = [2,3,4,5,6,7,8,9,10,int(round(np.sqrt(dfx2_imputed.shape[0])))]\n",
    "k_nn_name = [2,3,4,5,6,7,8,9,10,'_sqrt']\n",
    "\n",
    "for ik,k_nn in enumerate(k_nn_list):\n",
    "    print('ik,knn:',ik,k_nn)\n",
    "    x_knn = impute_missing_knn(np.array(dfx2_imputed),variable_type,\n",
    "                           i_missed,j_missed,k_nn)\n",
    "\n",
    "    # convert binary to +-1, category to onehot\n",
    "    x_knn_new = convert_binary_and_category(x_knn,variable_type)\n",
    "\n",
    "    # combine X and y and save to a file\n",
    "    xy_knn = np.hstack((x_knn_new,y_new[:,np.newaxis]))\n",
    "    np.savetxt('data_processed_knn%s.dat'%(k_nn_name[ik]),xy_knn,fmt='%f')"
   ]
  },
  {
   "cell_type": "code",
   "execution_count": null,
   "metadata": {},
   "outputs": [],
   "source": []
  }
 ],
 "metadata": {
  "kernelspec": {
   "display_name": "Python 3",
   "language": "python",
   "name": "python3"
  },
  "language_info": {
   "codemirror_mode": {
    "name": "ipython",
    "version": 3
   },
   "file_extension": ".py",
   "mimetype": "text/x-python",
   "name": "python",
   "nbconvert_exporter": "python",
   "pygments_lexer": "ipython3",
   "version": "3.7.4"
  }
 },
 "nbformat": 4,
 "nbformat_minor": 2
}
