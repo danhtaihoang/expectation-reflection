{
 "cells": [
  {
   "cell_type": "markdown",
   "metadata": {},
   "source": [
    "## Expectation Reflection\n",
    "\n",
    "Test ER package."
   ]
  },
  {
   "cell_type": "code",
   "execution_count": 1,
   "metadata": {},
   "outputs": [],
   "source": [
    "import numpy as np\n",
    "import pandas as pd\n",
    "\n",
    "from sklearn.model_selection import train_test_split\n",
    "from sklearn.utils import shuffle\n",
    "from sklearn.metrics import accuracy_score,precision_score,recall_score,roc_curve,auc\n",
    "\n",
    "from sklearn.preprocessing import MinMaxScaler\n",
    "\n",
    "from expectation_reflection import classification as ER\n",
    "from expectation_reflection import function\n",
    "\n",
    "#from ER import classification as ER\n",
    "#from ER import classification_self as ER\n",
    "#from ER import function"
   ]
  },
  {
   "cell_type": "code",
   "execution_count": 2,
   "metadata": {},
   "outputs": [],
   "source": [
    "np.random.seed(1)"
   ]
  },
  {
   "cell_type": "code",
   "execution_count": 3,
   "metadata": {
    "scrolled": true
   },
   "outputs": [
    {
     "name": "stdout",
     "output_type": "stream",
     "text": [
      "(array([0., 1.]), array([149, 149]))\n"
     ]
    }
   ],
   "source": [
    "Xy = np.loadtxt('kidney.dat') \n",
    "X = Xy[:,:-1]\n",
    "# 2020.07.15: convert y from {-1,+1} to {0,1}:\n",
    "y = (Xy[:,-1]+1)/2. \n",
    "\n",
    "X,y = function.make_data_balance(X,y)\n",
    "print(np.unique(y,return_counts=True))\n",
    "\n",
    "X, y = shuffle(X, y, random_state=1)\n",
    "\n",
    "X_train,X_test,y_train,y_test = train_test_split(X,y,test_size=0.5,random_state = 1)\n",
    "\n",
    "sc = MinMaxScaler()\n",
    "X_train = sc.fit_transform(X_train)\n",
    "X_test = sc.transform(X_test)"
   ]
  },
  {
   "cell_type": "code",
   "execution_count": 4,
   "metadata": {},
   "outputs": [],
   "source": [
    "model = ER.model(max_iter=100,regu=0.01,random_state=1)"
   ]
  },
  {
   "cell_type": "code",
   "execution_count": 5,
   "metadata": {
    "scrolled": true
   },
   "outputs": [
    {
     "data": {
      "text/plain": [
       "<expectation_reflection.classification.model at 0x7f9b6ae961d0>"
      ]
     },
     "execution_count": 5,
     "metadata": {},
     "output_type": "execute_result"
    }
   ],
   "source": [
    "model.fit(X_train,y_train)"
   ]
  },
  {
   "cell_type": "code",
   "execution_count": 6,
   "metadata": {},
   "outputs": [],
   "source": [
    "y_pred = model.predict(X_test)"
   ]
  },
  {
   "cell_type": "code",
   "execution_count": 7,
   "metadata": {},
   "outputs": [],
   "source": [
    "acc = accuracy_score(y_test,y_pred)"
   ]
  },
  {
   "cell_type": "code",
   "execution_count": 8,
   "metadata": {},
   "outputs": [
    {
     "name": "stdout",
     "output_type": "stream",
     "text": [
      "0.9731543624161074\n"
     ]
    }
   ],
   "source": [
    "print(acc)"
   ]
  },
  {
   "cell_type": "code",
   "execution_count": 9,
   "metadata": {},
   "outputs": [],
   "source": [
    "from sklearn.model_selection import GridSearchCV"
   ]
  },
  {
   "cell_type": "code",
   "execution_count": 10,
   "metadata": {},
   "outputs": [],
   "source": [
    "model = ER.model(max_iter=100,random_state=1)"
   ]
  },
  {
   "cell_type": "code",
   "execution_count": 11,
   "metadata": {},
   "outputs": [],
   "source": [
    "regu = [0.001,0.01,0.1,0.5]\n",
    "\n",
    "hyper_parameters = dict(regu=regu)"
   ]
  },
  {
   "cell_type": "code",
   "execution_count": 12,
   "metadata": {},
   "outputs": [
    {
     "data": {
      "text/plain": [
       "{'regu': [0.001, 0.01, 0.1, 0.5]}"
      ]
     },
     "execution_count": 12,
     "metadata": {},
     "output_type": "execute_result"
    }
   ],
   "source": [
    "hyper_parameters"
   ]
  },
  {
   "cell_type": "code",
   "execution_count": 13,
   "metadata": {},
   "outputs": [],
   "source": [
    "# Create grid search using cross validation\n",
    "clf = GridSearchCV(model, hyper_parameters, cv=4, iid='deprecated')"
   ]
  },
  {
   "cell_type": "code",
   "execution_count": 14,
   "metadata": {},
   "outputs": [],
   "source": [
    "# Fit grid search\n",
    "best_model = clf.fit(X_train, y_train)"
   ]
  },
  {
   "cell_type": "code",
   "execution_count": 15,
   "metadata": {},
   "outputs": [
    {
     "name": "stdout",
     "output_type": "stream",
     "text": [
      "best_hyper_parameters: {'regu': 0.01}\n"
     ]
    }
   ],
   "source": [
    " # best hyper parameters\n",
    "print('best_hyper_parameters:',best_model.best_params_)"
   ]
  },
  {
   "cell_type": "code",
   "execution_count": 16,
   "metadata": {},
   "outputs": [],
   "source": [
    "# performance:\n",
    "y_pred = best_model.best_estimator_.predict(X_test)\n",
    "p_pred = best_model.best_estimator_.predict_proba(X_test)\n",
    "#print('predicted probability:', p_pred)"
   ]
  },
  {
   "cell_type": "code",
   "execution_count": 17,
   "metadata": {},
   "outputs": [],
   "source": [
    "from sklearn.metrics import accuracy_score,precision_score,recall_score,f1_score,\\\n",
    "roc_auc_score,roc_curve,auc"
   ]
  },
  {
   "cell_type": "code",
   "execution_count": 18,
   "metadata": {},
   "outputs": [
    {
     "name": "stdout",
     "output_type": "stream",
     "text": [
      "accuracy: 0.9731543624161074\n",
      "precision: 0.9523809523809523\n",
      "recall: 1.0\n",
      "f1score: 0.975609756097561\n",
      "roc auc: 1.0\n"
     ]
    }
   ],
   "source": [
    "acc = accuracy_score(y_test,y_pred)\n",
    "print('accuracy:', acc)\n",
    "\n",
    "precision = precision_score(y_test,y_pred)\n",
    "print('precision:', precision)\n",
    "\n",
    "recall = recall_score(y_test,y_pred)\n",
    "print('recall:', recall)\n",
    "\n",
    "f1score = f1_score(y_test,y_pred)\n",
    "print('f1score:', f1score)\n",
    "\n",
    "roc_auc = roc_auc_score(y_test,p_pred) ## note: it is p_pred, not y_pred\n",
    "print('roc auc:', roc_auc)"
   ]
  },
  {
   "cell_type": "code",
   "execution_count": 19,
   "metadata": {},
   "outputs": [
    {
     "name": "stdout",
     "output_type": "stream",
     "text": [
      "roc auc: 1.0\n"
     ]
    }
   ],
   "source": [
    "fp,tp,thresholds = roc_curve(y_test, p_pred, drop_intermediate=False)\n",
    "roc_auc = auc(fp,tp)\n",
    "print('roc auc:', roc_auc)"
   ]
  },
  {
   "cell_type": "code",
   "execution_count": 20,
   "metadata": {},
   "outputs": [
    {
     "name": "stdout",
     "output_type": "stream",
     "text": [
      "intercept: -4.650109026584381\n",
      "interaction weights: [-0.00815286 -0.17548152  0.010372   -2.6403905  -2.62953412  2.22325146\n",
      "  3.5263851   2.95018099 -0.22568444 -0.06151069 -0.55264658 -0.40159625\n",
      "  0.          0.20910532  0.01741422  0.03186429 -0.12614174 -0.13897804\n",
      "  0.00754123  0.51000303 -0.34501901 -0.30999637 -0.48745579 -0.08638279\n",
      " -0.4446416   2.06650661  1.17528435 -2.67367338 -2.05940181 -0.33405106\n",
      " -1.14161845 -0.61911912 -0.80590147]\n"
     ]
    }
   ],
   "source": [
    "print('intercept:', best_model.best_estimator_.intercept_)\n",
    "print('interaction weights:', best_model.best_estimator_.coef_)"
   ]
  },
  {
   "cell_type": "code",
   "execution_count": null,
   "metadata": {},
   "outputs": [],
   "source": []
  }
 ],
 "metadata": {
  "kernelspec": {
   "display_name": "Python 3",
   "language": "python",
   "name": "python3"
  },
  "language_info": {
   "codemirror_mode": {
    "name": "ipython",
    "version": 3
   },
   "file_extension": ".py",
   "mimetype": "text/x-python",
   "name": "python",
   "nbconvert_exporter": "python",
   "pygments_lexer": "ipython3",
   "version": "3.7.4"
  }
 },
 "nbformat": 4,
 "nbformat_minor": 2
}
